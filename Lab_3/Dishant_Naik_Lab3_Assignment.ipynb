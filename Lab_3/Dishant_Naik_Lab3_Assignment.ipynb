{
  "nbformat": 4,
  "nbformat_minor": 0,
  "metadata": {
    "kernelspec": {
      "display_name": "Python 3.7.1 64-bit",
      "language": "python",
      "name": "python37164bit20e5165f44ad46e58d41bd8d050de6f3"
    },
    "language_info": {
      "codemirror_mode": {
        "name": "ipython",
        "version": 3
      },
      "file_extension": ".py",
      "mimetype": "text/x-python",
      "name": "python",
      "nbconvert_exporter": "python",
      "pygments_lexer": "ipython3",
      "version": "3.7.1"
    },
    "toc": {
      "base_numbering": 1,
      "nav_menu": {},
      "number_sections": true,
      "sideBar": true,
      "skip_h1_title": false,
      "title_cell": "Table of Contents",
      "title_sidebar": "Contents",
      "toc_cell": false,
      "toc_position": {},
      "toc_section_display": true,
      "toc_window_display": false
    },
    "colab": {
      "name": "Dishant_Naik_Lab3_Assignment.ipynb",
      "provenance": [],
      "collapsed_sections": []
    }
  },
  "cells": [
    {
      "cell_type": "code",
      "metadata": {
        "id": "BMIyAysmFbUY"
      },
      "source": [
        "import warnings\n",
        "warnings.filterwarnings('ignore')"
      ],
      "execution_count": null,
      "outputs": []
    },
    {
      "cell_type": "markdown",
      "metadata": {
        "id": "NkfbaSrgvIGp"
      },
      "source": [
        "# Lab 3 Assignment\n",
        "- In the exercises, you will still use the same dataset after One-Hot Encoding\n",
        "- The dependent variable is \"default payment next month\""
      ]
    },
    {
      "cell_type": "markdown",
      "metadata": {
        "id": "VMmEK_0DFbUZ"
      },
      "source": [
        "__Name:__"
      ]
    },
    {
      "cell_type": "markdown",
      "metadata": {
        "id": "5F5xfOT9vIGt"
      },
      "source": [
        "## Starting point - Import and Split dataset\n",
        "- Split the dataset into training and testing set, with a ratio of 9:1"
      ]
    },
    {
      "cell_type": "code",
      "metadata": {
        "id": "A5eaRojtFbUa"
      },
      "source": [
        "import pandas as pd\n",
        "from sklearn.pipeline import Pipeline\n",
        "from sklearn.model_selection import GridSearchCV\n",
        "from sklearn import preprocessing\n",
        "from sklearn.linear_model import LogisticRegression\n",
        "from sklearn.decomposition import PCA\n",
        "import numpy as np\n",
        "from sklearn.metrics import roc_curve, auc, precision_recall_curve"
      ],
      "execution_count": null,
      "outputs": []
    },
    {
      "cell_type": "code",
      "metadata": {
        "id": "0kuJbAcIFbUa",
        "colab": {
          "base_uri": "https://localhost:8080/",
          "height": 304
        },
        "outputId": "fad8b91a-d6b2-493a-c415-393231ac2cb3"
      },
      "source": [
        "df = pd.read_excel('http://fengmai.net//download/courses/2020S-BIA652NT-Pub/Week10-Classification%20and%20Hyperparameter%20Search%20using%20Python/default%20of%20credit%20card%20clients.xls', header = 1).drop('ID', axis = 1)\n",
        "\n",
        "col = ['SEX', 'EDUCATION', 'MARRIAGE', 'PAY_0', 'PAY_2', 'PAY_3', 'PAY_4', 'PAY_5', 'PAY_6']\n",
        "df2 = pd.get_dummies(df, columns = col, drop_first=True)\n",
        "df2.head()"
      ],
      "execution_count": null,
      "outputs": [
        {
          "output_type": "execute_result",
          "data": {
            "text/html": [
              "<div>\n",
              "<style scoped>\n",
              "    .dataframe tbody tr th:only-of-type {\n",
              "        vertical-align: middle;\n",
              "    }\n",
              "\n",
              "    .dataframe tbody tr th {\n",
              "        vertical-align: top;\n",
              "    }\n",
              "\n",
              "    .dataframe thead th {\n",
              "        text-align: right;\n",
              "    }\n",
              "</style>\n",
              "<table border=\"1\" class=\"dataframe\">\n",
              "  <thead>\n",
              "    <tr style=\"text-align: right;\">\n",
              "      <th></th>\n",
              "      <th>LIMIT_BAL</th>\n",
              "      <th>AGE</th>\n",
              "      <th>BILL_AMT1</th>\n",
              "      <th>BILL_AMT2</th>\n",
              "      <th>BILL_AMT3</th>\n",
              "      <th>BILL_AMT4</th>\n",
              "      <th>BILL_AMT5</th>\n",
              "      <th>BILL_AMT6</th>\n",
              "      <th>PAY_AMT1</th>\n",
              "      <th>PAY_AMT2</th>\n",
              "      <th>PAY_AMT3</th>\n",
              "      <th>PAY_AMT4</th>\n",
              "      <th>PAY_AMT5</th>\n",
              "      <th>PAY_AMT6</th>\n",
              "      <th>default payment next month</th>\n",
              "      <th>SEX_2</th>\n",
              "      <th>EDUCATION_1</th>\n",
              "      <th>EDUCATION_2</th>\n",
              "      <th>EDUCATION_3</th>\n",
              "      <th>EDUCATION_4</th>\n",
              "      <th>EDUCATION_5</th>\n",
              "      <th>EDUCATION_6</th>\n",
              "      <th>MARRIAGE_1</th>\n",
              "      <th>MARRIAGE_2</th>\n",
              "      <th>MARRIAGE_3</th>\n",
              "      <th>PAY_0_-1</th>\n",
              "      <th>PAY_0_0</th>\n",
              "      <th>PAY_0_1</th>\n",
              "      <th>PAY_0_2</th>\n",
              "      <th>PAY_0_3</th>\n",
              "      <th>PAY_0_4</th>\n",
              "      <th>PAY_0_5</th>\n",
              "      <th>PAY_0_6</th>\n",
              "      <th>PAY_0_7</th>\n",
              "      <th>PAY_0_8</th>\n",
              "      <th>PAY_2_-1</th>\n",
              "      <th>PAY_2_0</th>\n",
              "      <th>PAY_2_1</th>\n",
              "      <th>PAY_2_2</th>\n",
              "      <th>PAY_2_3</th>\n",
              "      <th>...</th>\n",
              "      <th>PAY_2_7</th>\n",
              "      <th>PAY_2_8</th>\n",
              "      <th>PAY_3_-1</th>\n",
              "      <th>PAY_3_0</th>\n",
              "      <th>PAY_3_1</th>\n",
              "      <th>PAY_3_2</th>\n",
              "      <th>PAY_3_3</th>\n",
              "      <th>PAY_3_4</th>\n",
              "      <th>PAY_3_5</th>\n",
              "      <th>PAY_3_6</th>\n",
              "      <th>PAY_3_7</th>\n",
              "      <th>PAY_3_8</th>\n",
              "      <th>PAY_4_-1</th>\n",
              "      <th>PAY_4_0</th>\n",
              "      <th>PAY_4_1</th>\n",
              "      <th>PAY_4_2</th>\n",
              "      <th>PAY_4_3</th>\n",
              "      <th>PAY_4_4</th>\n",
              "      <th>PAY_4_5</th>\n",
              "      <th>PAY_4_6</th>\n",
              "      <th>PAY_4_7</th>\n",
              "      <th>PAY_4_8</th>\n",
              "      <th>PAY_5_-1</th>\n",
              "      <th>PAY_5_0</th>\n",
              "      <th>PAY_5_2</th>\n",
              "      <th>PAY_5_3</th>\n",
              "      <th>PAY_5_4</th>\n",
              "      <th>PAY_5_5</th>\n",
              "      <th>PAY_5_6</th>\n",
              "      <th>PAY_5_7</th>\n",
              "      <th>PAY_5_8</th>\n",
              "      <th>PAY_6_-1</th>\n",
              "      <th>PAY_6_0</th>\n",
              "      <th>PAY_6_2</th>\n",
              "      <th>PAY_6_3</th>\n",
              "      <th>PAY_6_4</th>\n",
              "      <th>PAY_6_5</th>\n",
              "      <th>PAY_6_6</th>\n",
              "      <th>PAY_6_7</th>\n",
              "      <th>PAY_6_8</th>\n",
              "    </tr>\n",
              "  </thead>\n",
              "  <tbody>\n",
              "    <tr>\n",
              "      <th>0</th>\n",
              "      <td>20000</td>\n",
              "      <td>24</td>\n",
              "      <td>3913</td>\n",
              "      <td>3102</td>\n",
              "      <td>689</td>\n",
              "      <td>0</td>\n",
              "      <td>0</td>\n",
              "      <td>0</td>\n",
              "      <td>0</td>\n",
              "      <td>689</td>\n",
              "      <td>0</td>\n",
              "      <td>0</td>\n",
              "      <td>0</td>\n",
              "      <td>0</td>\n",
              "      <td>1</td>\n",
              "      <td>1</td>\n",
              "      <td>0</td>\n",
              "      <td>1</td>\n",
              "      <td>0</td>\n",
              "      <td>0</td>\n",
              "      <td>0</td>\n",
              "      <td>0</td>\n",
              "      <td>1</td>\n",
              "      <td>0</td>\n",
              "      <td>0</td>\n",
              "      <td>0</td>\n",
              "      <td>0</td>\n",
              "      <td>0</td>\n",
              "      <td>1</td>\n",
              "      <td>0</td>\n",
              "      <td>0</td>\n",
              "      <td>0</td>\n",
              "      <td>0</td>\n",
              "      <td>0</td>\n",
              "      <td>0</td>\n",
              "      <td>0</td>\n",
              "      <td>0</td>\n",
              "      <td>0</td>\n",
              "      <td>1</td>\n",
              "      <td>0</td>\n",
              "      <td>...</td>\n",
              "      <td>0</td>\n",
              "      <td>0</td>\n",
              "      <td>1</td>\n",
              "      <td>0</td>\n",
              "      <td>0</td>\n",
              "      <td>0</td>\n",
              "      <td>0</td>\n",
              "      <td>0</td>\n",
              "      <td>0</td>\n",
              "      <td>0</td>\n",
              "      <td>0</td>\n",
              "      <td>0</td>\n",
              "      <td>1</td>\n",
              "      <td>0</td>\n",
              "      <td>0</td>\n",
              "      <td>0</td>\n",
              "      <td>0</td>\n",
              "      <td>0</td>\n",
              "      <td>0</td>\n",
              "      <td>0</td>\n",
              "      <td>0</td>\n",
              "      <td>0</td>\n",
              "      <td>0</td>\n",
              "      <td>0</td>\n",
              "      <td>0</td>\n",
              "      <td>0</td>\n",
              "      <td>0</td>\n",
              "      <td>0</td>\n",
              "      <td>0</td>\n",
              "      <td>0</td>\n",
              "      <td>0</td>\n",
              "      <td>0</td>\n",
              "      <td>0</td>\n",
              "      <td>0</td>\n",
              "      <td>0</td>\n",
              "      <td>0</td>\n",
              "      <td>0</td>\n",
              "      <td>0</td>\n",
              "      <td>0</td>\n",
              "      <td>0</td>\n",
              "    </tr>\n",
              "    <tr>\n",
              "      <th>1</th>\n",
              "      <td>120000</td>\n",
              "      <td>26</td>\n",
              "      <td>2682</td>\n",
              "      <td>1725</td>\n",
              "      <td>2682</td>\n",
              "      <td>3272</td>\n",
              "      <td>3455</td>\n",
              "      <td>3261</td>\n",
              "      <td>0</td>\n",
              "      <td>1000</td>\n",
              "      <td>1000</td>\n",
              "      <td>1000</td>\n",
              "      <td>0</td>\n",
              "      <td>2000</td>\n",
              "      <td>1</td>\n",
              "      <td>1</td>\n",
              "      <td>0</td>\n",
              "      <td>1</td>\n",
              "      <td>0</td>\n",
              "      <td>0</td>\n",
              "      <td>0</td>\n",
              "      <td>0</td>\n",
              "      <td>0</td>\n",
              "      <td>1</td>\n",
              "      <td>0</td>\n",
              "      <td>1</td>\n",
              "      <td>0</td>\n",
              "      <td>0</td>\n",
              "      <td>0</td>\n",
              "      <td>0</td>\n",
              "      <td>0</td>\n",
              "      <td>0</td>\n",
              "      <td>0</td>\n",
              "      <td>0</td>\n",
              "      <td>0</td>\n",
              "      <td>0</td>\n",
              "      <td>0</td>\n",
              "      <td>0</td>\n",
              "      <td>1</td>\n",
              "      <td>0</td>\n",
              "      <td>...</td>\n",
              "      <td>0</td>\n",
              "      <td>0</td>\n",
              "      <td>0</td>\n",
              "      <td>1</td>\n",
              "      <td>0</td>\n",
              "      <td>0</td>\n",
              "      <td>0</td>\n",
              "      <td>0</td>\n",
              "      <td>0</td>\n",
              "      <td>0</td>\n",
              "      <td>0</td>\n",
              "      <td>0</td>\n",
              "      <td>0</td>\n",
              "      <td>1</td>\n",
              "      <td>0</td>\n",
              "      <td>0</td>\n",
              "      <td>0</td>\n",
              "      <td>0</td>\n",
              "      <td>0</td>\n",
              "      <td>0</td>\n",
              "      <td>0</td>\n",
              "      <td>0</td>\n",
              "      <td>0</td>\n",
              "      <td>1</td>\n",
              "      <td>0</td>\n",
              "      <td>0</td>\n",
              "      <td>0</td>\n",
              "      <td>0</td>\n",
              "      <td>0</td>\n",
              "      <td>0</td>\n",
              "      <td>0</td>\n",
              "      <td>0</td>\n",
              "      <td>0</td>\n",
              "      <td>1</td>\n",
              "      <td>0</td>\n",
              "      <td>0</td>\n",
              "      <td>0</td>\n",
              "      <td>0</td>\n",
              "      <td>0</td>\n",
              "      <td>0</td>\n",
              "    </tr>\n",
              "    <tr>\n",
              "      <th>2</th>\n",
              "      <td>90000</td>\n",
              "      <td>34</td>\n",
              "      <td>29239</td>\n",
              "      <td>14027</td>\n",
              "      <td>13559</td>\n",
              "      <td>14331</td>\n",
              "      <td>14948</td>\n",
              "      <td>15549</td>\n",
              "      <td>1518</td>\n",
              "      <td>1500</td>\n",
              "      <td>1000</td>\n",
              "      <td>1000</td>\n",
              "      <td>1000</td>\n",
              "      <td>5000</td>\n",
              "      <td>0</td>\n",
              "      <td>1</td>\n",
              "      <td>0</td>\n",
              "      <td>1</td>\n",
              "      <td>0</td>\n",
              "      <td>0</td>\n",
              "      <td>0</td>\n",
              "      <td>0</td>\n",
              "      <td>0</td>\n",
              "      <td>1</td>\n",
              "      <td>0</td>\n",
              "      <td>0</td>\n",
              "      <td>1</td>\n",
              "      <td>0</td>\n",
              "      <td>0</td>\n",
              "      <td>0</td>\n",
              "      <td>0</td>\n",
              "      <td>0</td>\n",
              "      <td>0</td>\n",
              "      <td>0</td>\n",
              "      <td>0</td>\n",
              "      <td>0</td>\n",
              "      <td>1</td>\n",
              "      <td>0</td>\n",
              "      <td>0</td>\n",
              "      <td>0</td>\n",
              "      <td>...</td>\n",
              "      <td>0</td>\n",
              "      <td>0</td>\n",
              "      <td>0</td>\n",
              "      <td>1</td>\n",
              "      <td>0</td>\n",
              "      <td>0</td>\n",
              "      <td>0</td>\n",
              "      <td>0</td>\n",
              "      <td>0</td>\n",
              "      <td>0</td>\n",
              "      <td>0</td>\n",
              "      <td>0</td>\n",
              "      <td>0</td>\n",
              "      <td>1</td>\n",
              "      <td>0</td>\n",
              "      <td>0</td>\n",
              "      <td>0</td>\n",
              "      <td>0</td>\n",
              "      <td>0</td>\n",
              "      <td>0</td>\n",
              "      <td>0</td>\n",
              "      <td>0</td>\n",
              "      <td>0</td>\n",
              "      <td>1</td>\n",
              "      <td>0</td>\n",
              "      <td>0</td>\n",
              "      <td>0</td>\n",
              "      <td>0</td>\n",
              "      <td>0</td>\n",
              "      <td>0</td>\n",
              "      <td>0</td>\n",
              "      <td>0</td>\n",
              "      <td>1</td>\n",
              "      <td>0</td>\n",
              "      <td>0</td>\n",
              "      <td>0</td>\n",
              "      <td>0</td>\n",
              "      <td>0</td>\n",
              "      <td>0</td>\n",
              "      <td>0</td>\n",
              "    </tr>\n",
              "    <tr>\n",
              "      <th>3</th>\n",
              "      <td>50000</td>\n",
              "      <td>37</td>\n",
              "      <td>46990</td>\n",
              "      <td>48233</td>\n",
              "      <td>49291</td>\n",
              "      <td>28314</td>\n",
              "      <td>28959</td>\n",
              "      <td>29547</td>\n",
              "      <td>2000</td>\n",
              "      <td>2019</td>\n",
              "      <td>1200</td>\n",
              "      <td>1100</td>\n",
              "      <td>1069</td>\n",
              "      <td>1000</td>\n",
              "      <td>0</td>\n",
              "      <td>1</td>\n",
              "      <td>0</td>\n",
              "      <td>1</td>\n",
              "      <td>0</td>\n",
              "      <td>0</td>\n",
              "      <td>0</td>\n",
              "      <td>0</td>\n",
              "      <td>1</td>\n",
              "      <td>0</td>\n",
              "      <td>0</td>\n",
              "      <td>0</td>\n",
              "      <td>1</td>\n",
              "      <td>0</td>\n",
              "      <td>0</td>\n",
              "      <td>0</td>\n",
              "      <td>0</td>\n",
              "      <td>0</td>\n",
              "      <td>0</td>\n",
              "      <td>0</td>\n",
              "      <td>0</td>\n",
              "      <td>0</td>\n",
              "      <td>1</td>\n",
              "      <td>0</td>\n",
              "      <td>0</td>\n",
              "      <td>0</td>\n",
              "      <td>...</td>\n",
              "      <td>0</td>\n",
              "      <td>0</td>\n",
              "      <td>0</td>\n",
              "      <td>1</td>\n",
              "      <td>0</td>\n",
              "      <td>0</td>\n",
              "      <td>0</td>\n",
              "      <td>0</td>\n",
              "      <td>0</td>\n",
              "      <td>0</td>\n",
              "      <td>0</td>\n",
              "      <td>0</td>\n",
              "      <td>0</td>\n",
              "      <td>1</td>\n",
              "      <td>0</td>\n",
              "      <td>0</td>\n",
              "      <td>0</td>\n",
              "      <td>0</td>\n",
              "      <td>0</td>\n",
              "      <td>0</td>\n",
              "      <td>0</td>\n",
              "      <td>0</td>\n",
              "      <td>0</td>\n",
              "      <td>1</td>\n",
              "      <td>0</td>\n",
              "      <td>0</td>\n",
              "      <td>0</td>\n",
              "      <td>0</td>\n",
              "      <td>0</td>\n",
              "      <td>0</td>\n",
              "      <td>0</td>\n",
              "      <td>0</td>\n",
              "      <td>1</td>\n",
              "      <td>0</td>\n",
              "      <td>0</td>\n",
              "      <td>0</td>\n",
              "      <td>0</td>\n",
              "      <td>0</td>\n",
              "      <td>0</td>\n",
              "      <td>0</td>\n",
              "    </tr>\n",
              "    <tr>\n",
              "      <th>4</th>\n",
              "      <td>50000</td>\n",
              "      <td>57</td>\n",
              "      <td>8617</td>\n",
              "      <td>5670</td>\n",
              "      <td>35835</td>\n",
              "      <td>20940</td>\n",
              "      <td>19146</td>\n",
              "      <td>19131</td>\n",
              "      <td>2000</td>\n",
              "      <td>36681</td>\n",
              "      <td>10000</td>\n",
              "      <td>9000</td>\n",
              "      <td>689</td>\n",
              "      <td>679</td>\n",
              "      <td>0</td>\n",
              "      <td>0</td>\n",
              "      <td>0</td>\n",
              "      <td>1</td>\n",
              "      <td>0</td>\n",
              "      <td>0</td>\n",
              "      <td>0</td>\n",
              "      <td>0</td>\n",
              "      <td>1</td>\n",
              "      <td>0</td>\n",
              "      <td>0</td>\n",
              "      <td>1</td>\n",
              "      <td>0</td>\n",
              "      <td>0</td>\n",
              "      <td>0</td>\n",
              "      <td>0</td>\n",
              "      <td>0</td>\n",
              "      <td>0</td>\n",
              "      <td>0</td>\n",
              "      <td>0</td>\n",
              "      <td>0</td>\n",
              "      <td>0</td>\n",
              "      <td>1</td>\n",
              "      <td>0</td>\n",
              "      <td>0</td>\n",
              "      <td>0</td>\n",
              "      <td>...</td>\n",
              "      <td>0</td>\n",
              "      <td>0</td>\n",
              "      <td>1</td>\n",
              "      <td>0</td>\n",
              "      <td>0</td>\n",
              "      <td>0</td>\n",
              "      <td>0</td>\n",
              "      <td>0</td>\n",
              "      <td>0</td>\n",
              "      <td>0</td>\n",
              "      <td>0</td>\n",
              "      <td>0</td>\n",
              "      <td>0</td>\n",
              "      <td>1</td>\n",
              "      <td>0</td>\n",
              "      <td>0</td>\n",
              "      <td>0</td>\n",
              "      <td>0</td>\n",
              "      <td>0</td>\n",
              "      <td>0</td>\n",
              "      <td>0</td>\n",
              "      <td>0</td>\n",
              "      <td>0</td>\n",
              "      <td>1</td>\n",
              "      <td>0</td>\n",
              "      <td>0</td>\n",
              "      <td>0</td>\n",
              "      <td>0</td>\n",
              "      <td>0</td>\n",
              "      <td>0</td>\n",
              "      <td>0</td>\n",
              "      <td>0</td>\n",
              "      <td>1</td>\n",
              "      <td>0</td>\n",
              "      <td>0</td>\n",
              "      <td>0</td>\n",
              "      <td>0</td>\n",
              "      <td>0</td>\n",
              "      <td>0</td>\n",
              "      <td>0</td>\n",
              "    </tr>\n",
              "  </tbody>\n",
              "</table>\n",
              "<p>5 rows × 83 columns</p>\n",
              "</div>"
            ],
            "text/plain": [
              "   LIMIT_BAL  AGE  BILL_AMT1  BILL_AMT2  ...  PAY_6_5  PAY_6_6  PAY_6_7  PAY_6_8\n",
              "0      20000   24       3913       3102  ...        0        0        0        0\n",
              "1     120000   26       2682       1725  ...        0        0        0        0\n",
              "2      90000   34      29239      14027  ...        0        0        0        0\n",
              "3      50000   37      46990      48233  ...        0        0        0        0\n",
              "4      50000   57       8617       5670  ...        0        0        0        0\n",
              "\n",
              "[5 rows x 83 columns]"
            ]
          },
          "metadata": {
            "tags": []
          },
          "execution_count": 3
        }
      ]
    },
    {
      "cell_type": "code",
      "metadata": {
        "id": "TYCpRfZfvIGt"
      },
      "source": [
        "from sklearn.model_selection import train_test_split\n",
        "y = df2['default payment next month'].values.astype(float)\n",
        "x = df2.drop('default payment next month', axis = 1).values.astype(float)\n",
        "x_train, x_test, y_train, y_test = train_test_split(x, y, test_size = 0.1, random_state = 0)"
      ],
      "execution_count": null,
      "outputs": []
    },
    {
      "cell_type": "markdown",
      "metadata": {
        "id": "VuvIaqQtvIG7"
      },
      "source": [
        "## Q1 - Grid-search both C and number of PCs \n",
        "\n",
        "Next, we use the gride search procedure to search for both the optimal C (inverse of L2 regularization parameter) and the number of principle components using cross validation on the train set.\n",
        "\n",
        "- Define a parameter grid such that pca__n_components is 5 to 20, and add C as a parameter that can take the following values: [1000, 100, 10, 1, 0.1, 0.01]. Hint: use `pipe.get_params().keys()` to get the right key for C. \n",
        "- Which C and PC combination is the best?"
      ]
    },
    {
      "cell_type": "code",
      "metadata": {
        "id": "s5w5IjVoFbUa"
      },
      "source": [
        "def report(results, n_top=3):\n",
        "    for i in range(1, n_top + 1):\n",
        "        candidates = np.flatnonzero(results['rank_test_score'] == i)\n",
        "        for candidate in candidates:\n",
        "            print(\"Model with rank: {0}\".format(i))\n",
        "            print(\"Mean validation score: {0:.3f} (std: {1:.3f})\".format(\n",
        "                  results['mean_test_score'][candidate],\n",
        "                  results['std_test_score'][candidate]))\n",
        "            print(\"Parameters: {0}\".format(results['params'][candidate]))\n",
        "            print(\"\")"
      ],
      "execution_count": null,
      "outputs": []
    },
    {
      "cell_type": "code",
      "metadata": {
        "colab": {
          "base_uri": "https://localhost:8080/"
        },
        "id": "fkONU6bO_TqC",
        "outputId": "edc50f79-3317-4d97-b777-b718cd9084d7"
      },
      "source": [
        "pipe.get_params().keys()"
      ],
      "execution_count": null,
      "outputs": [
        {
          "output_type": "execute_result",
          "data": {
            "text/plain": [
              "dict_keys(['memory', 'steps', 'verbose', 'standardization', 'pca', 'lg', 'standardization__copy', 'standardization__with_mean', 'standardization__with_std', 'pca__copy', 'pca__iterated_power', 'pca__n_components', 'pca__random_state', 'pca__svd_solver', 'pca__tol', 'pca__whiten', 'lg__C', 'lg__class_weight', 'lg__dual', 'lg__fit_intercept', 'lg__intercept_scaling', 'lg__l1_ratio', 'lg__max_iter', 'lg__multi_class', 'lg__n_jobs', 'lg__penalty', 'lg__random_state', 'lg__solver', 'lg__tol', 'lg__verbose', 'lg__warm_start'])"
            ]
          },
          "metadata": {
            "tags": []
          },
          "execution_count": 8
        }
      ]
    },
    {
      "cell_type": "code",
      "metadata": {
        "scrolled": true,
        "id": "LdGZI4GhFbUa",
        "colab": {
          "base_uri": "https://localhost:8080/"
        },
        "outputId": "36d842cc-42c9-4fa5-ee2d-461377e9d2b4"
      },
      "source": [
        "##### YOUR CODE HERE ######\n",
        "\n",
        "pipe = Pipeline([\n",
        "    ('standardization', preprocessing.StandardScaler()),\n",
        "    ('pca', PCA()),    \n",
        "    ('lg', LogisticRegression(solver = 'lbfgs', max_iter = 1000))\n",
        "])\n",
        "\n",
        "param_grid = {'pca__n_components':  range(5, 21),'lg__C':(1000, 100, 10, 1, 0.1, 0.01)}\n",
        "\n",
        "\n",
        "grid = GridSearchCV(pipe, cv = 3, param_grid = param_grid, scoring = 'roc_auc', refit=True, verbose=1)\n",
        "grid_fit = grid.fit(x_train, y_train)"
      ],
      "execution_count": null,
      "outputs": [
        {
          "output_type": "stream",
          "text": [
            "Fitting 3 folds for each of 96 candidates, totalling 288 fits\n"
          ],
          "name": "stdout"
        },
        {
          "output_type": "stream",
          "text": [
            "[Parallel(n_jobs=1)]: Using backend SequentialBackend with 1 concurrent workers.\n",
            "[Parallel(n_jobs=1)]: Done 288 out of 288 | elapsed:  1.2min finished\n"
          ],
          "name": "stderr"
        }
      ]
    },
    {
      "cell_type": "code",
      "metadata": {
        "scrolled": true,
        "id": "2iAPfjn9FbUa",
        "colab": {
          "base_uri": "https://localhost:8080/"
        },
        "outputId": "bca94f82-b258-484d-893c-773d6c3ea9f6"
      },
      "source": [
        "report(grid.cv_results_)"
      ],
      "execution_count": null,
      "outputs": [
        {
          "output_type": "stream",
          "text": [
            "Model with rank: 1\n",
            "Mean validation score: 0.762 (std: 0.005)\n",
            "Parameters: {'lg__C': 100, 'pca__n_components': 18}\n",
            "\n",
            "Model with rank: 2\n",
            "Mean validation score: 0.761 (std: 0.005)\n",
            "Parameters: {'lg__C': 1000, 'pca__n_components': 18}\n",
            "\n",
            "Model with rank: 3\n",
            "Mean validation score: 0.761 (std: 0.005)\n",
            "Parameters: {'lg__C': 1000, 'pca__n_components': 20}\n",
            "\n"
          ],
          "name": "stdout"
        }
      ]
    },
    {
      "cell_type": "markdown",
      "metadata": {
        "id": "yGfPB8geFbUb"
      },
      "source": [
        "## Q2 - Provide AUC in the test set\n",
        "- Based on Q1, use the best chosen model to provide AUC for the test set"
      ]
    },
    {
      "cell_type": "code",
      "metadata": {
        "id": "-wlnhmWCFbUb"
      },
      "source": [
        "#### YOUR CODE HERE ####\n",
        "grid_proba = grid.predict_proba(x_test)"
      ],
      "execution_count": null,
      "outputs": []
    },
    {
      "cell_type": "code",
      "metadata": {
        "colab": {
          "base_uri": "https://localhost:8080/"
        },
        "id": "MpgiXiZ_DN3d",
        "outputId": "6f1adbb7-e374-4552-9a62-548fa756354c"
      },
      "source": [
        "fpr, tpr, thresholds = roc_curve(y_test, grid.predict_proba(x_test)[:,1])\n",
        "print('AUC: {:.2f}'.format(auc(fpr, tpr)))"
      ],
      "execution_count": null,
      "outputs": [
        {
          "output_type": "stream",
          "text": [
            "AUC: 0.75\n"
          ],
          "name": "stdout"
        }
      ]
    },
    {
      "cell_type": "markdown",
      "metadata": {
        "id": "2nitlGWZFbUb"
      },
      "source": [
        "## Q3 - Confusion matrix, precision, recall, F-1\n",
        "- When decision threshold is 0.5:\n",
        "    - Provide Confusion matrix, precision, recall, F-1 for the test set"
      ]
    },
    {
      "cell_type": "code",
      "metadata": {
        "id": "hYOoMvaxGYCo"
      },
      "source": [
        "pred = grid.predict(x_test)"
      ],
      "execution_count": null,
      "outputs": []
    },
    {
      "cell_type": "code",
      "metadata": {
        "colab": {
          "base_uri": "https://localhost:8080/"
        },
        "id": "3d6VwWHfGwYH",
        "outputId": "892ef52f-a065-46b3-fff7-607001be8a8a"
      },
      "source": [
        "pred"
      ],
      "execution_count": null,
      "outputs": [
        {
          "output_type": "execute_result",
          "data": {
            "text/plain": [
              "array([1., 0., 0., ..., 0., 0., 0.])"
            ]
          },
          "metadata": {
            "tags": []
          },
          "execution_count": 19
        }
      ]
    },
    {
      "cell_type": "code",
      "metadata": {
        "colab": {
          "base_uri": "https://localhost:8080/"
        },
        "id": "8CxHXtXxYo-d",
        "outputId": "cbd9848e-8583-4667-f196-4e78f315a648"
      },
      "source": [
        "# default thresold is 0.5 \n",
        "from sklearn import metrics\n",
        "metrics.confusion_matrix(y_test, pred)"
      ],
      "execution_count": null,
      "outputs": [
        {
          "output_type": "execute_result",
          "data": {
            "text/plain": [
              "array([[2257,  103],\n",
              "       [ 478,  162]])"
            ]
          },
          "metadata": {
            "tags": []
          },
          "execution_count": 41
        }
      ]
    },
    {
      "cell_type": "code",
      "metadata": {
        "colab": {
          "base_uri": "https://localhost:8080/"
        },
        "id": "jx1q_9VNDtYu",
        "outputId": "71a32906-9327-48fa-db40-949036c9cfb5"
      },
      "source": [
        "from sklearn.metrics import confusion_matrix, classification_report\n",
        "print('classification report:\\n', classification_report(y_test, grid_proba[:,1] == 0.5))"
      ],
      "execution_count": null,
      "outputs": [
        {
          "output_type": "stream",
          "text": [
            "classification report:\n",
            "               precision    recall  f1-score   support\n",
            "\n",
            "         0.0       0.79      1.00      0.88      2360\n",
            "         1.0       0.00      0.00      0.00       640\n",
            "\n",
            "    accuracy                           0.79      3000\n",
            "   macro avg       0.39      0.50      0.44      3000\n",
            "weighted avg       0.62      0.79      0.69      3000\n",
            "\n"
          ],
          "name": "stdout"
        }
      ]
    },
    {
      "cell_type": "markdown",
      "metadata": {
        "id": "UYJ0aK77FbUb"
      },
      "source": [
        "## Q4 - Optimal decision threshold"
      ]
    },
    {
      "cell_type": "markdown",
      "metadata": {
        "id": "cJ1UvXRTFbUb"
      },
      "source": [
        "If the average cost for a false positive prediction is 1, and the cost for a false negative prediction is 2, what is the optimal decision threshold that can minimize cost in the test set given your predicted_prob? Provide answer up to 2 decimal places. "
      ]
    },
    {
      "cell_type": "code",
      "metadata": {
        "id": "mPdg8WFDSISH"
      },
      "source": [
        "y_pred = lg.predict"
      ],
      "execution_count": null,
      "outputs": []
    },
    {
      "cell_type": "code",
      "metadata": {
        "id": "wcOA8tQU746d",
        "colab": {
          "base_uri": "https://localhost:8080/"
        },
        "outputId": "3cd5cfea-1606-48ea-8859-47ae651bb073"
      },
      "source": [
        "probas = grid_proba[:,1]\n",
        "probas"
      ],
      "execution_count": null,
      "outputs": [
        {
          "output_type": "execute_result",
          "data": {
            "text/plain": [
              "array([0.74129188, 0.23874296, 0.1857832 , ..., 0.17743378, 0.17770075,\n",
              "       0.13056649])"
            ]
          },
          "metadata": {
            "tags": []
          },
          "execution_count": 83
        }
      ]
    },
    {
      "cell_type": "code",
      "metadata": {
        "id": "hdMFvNdLSmZj"
      },
      "source": [
        "from sklearn.metrics import f1_score"
      ],
      "execution_count": null,
      "outputs": []
    },
    {
      "cell_type": "code",
      "metadata": {
        "id": "Mw2G6aFWTGwO"
      },
      "source": [
        "dt_cost = dict()\n",
        "\n",
        "for dt in np.arange(0.0, 1.0, 0.01):\n",
        "  # print(f\"decision threshold: {dt:.2f}\")\n",
        "  #### YOUR CODE HERE ####\n",
        "  des = (probas >= dt).astype(int)\n",
        "  score = f1_score(y_test,des)\n",
        "  dt_cost[dt] = score"
      ],
      "execution_count": null,
      "outputs": []
    },
    {
      "cell_type": "code",
      "metadata": {
        "id": "fEwmHoa6UMfz"
      },
      "source": [
        "# dt_cost\n",
        "min_cost = min(dt_cost.values())\n",
        "ther = 0\n",
        "for a, b in dt_cost.items():\n",
        "   if(b == min_cost):\n",
        "     ther = a\n"
      ],
      "execution_count": null,
      "outputs": []
    },
    {
      "cell_type": "code",
      "metadata": {
        "colab": {
          "base_uri": "https://localhost:8080/"
        },
        "id": "RwOGRmtAWofW",
        "outputId": "812b6462-5a24-46b5-962d-ec8a6ba2068c"
      },
      "source": [
        "print('Threshold=%.2f, F-Score=%.2f' % (ther, min_cost))"
      ],
      "execution_count": null,
      "outputs": [
        {
          "output_type": "stream",
          "text": [
            "Threshold=0.99, F-Score=0.00\n"
          ],
          "name": "stdout"
        }
      ]
    },
    {
      "cell_type": "code",
      "metadata": {
        "colab": {
          "base_uri": "https://localhost:8080/"
        },
        "id": "ySbIYixsW5dI",
        "outputId": "398557ab-9cab-4334-e158-4c7ca0489803"
      },
      "source": [
        "dt_cost"
      ],
      "execution_count": null,
      "outputs": [
        {
          "output_type": "execute_result",
          "data": {
            "text/plain": [
              "{0.0: 0.3516483516483517,\n",
              " 0.01: 0.35232590145884946,\n",
              " 0.02: 0.3529087400055142,\n",
              " 0.03: 0.3536247924737133,\n",
              " 0.04: 0.355889724310777,\n",
              " 0.05: 0.35712286593898684,\n",
              " 0.06: 0.35734383792909397,\n",
              " 0.07: 0.35914893617021276,\n",
              " 0.08: 0.3640023001725129,\n",
              " 0.09: 0.3676212741087084,\n",
              " 0.1: 0.37196765498652296,\n",
              " 0.11: 0.3817787418655098,\n",
              " 0.12: 0.39341021416803956,\n",
              " 0.13: 0.4077464788732394,\n",
              " 0.14: 0.4217374665135859,\n",
              " 0.15: 0.44319167389418906,\n",
              " 0.16: 0.45999041686631537,\n",
              " 0.17: 0.4731958762886597,\n",
              " 0.18: 0.476029328821207,\n",
              " 0.19: 0.4839296543359612,\n",
              " 0.2: 0.4897435897435898,\n",
              " 0.21: 0.49287169042769857,\n",
              " 0.22: 0.49539985845718326,\n",
              " 0.23: 0.5022222222222222,\n",
              " 0.24: 0.5015290519877675,\n",
              " 0.25: 0.5011820330969268,\n",
              " 0.26: 0.49837662337662336,\n",
              " 0.27: 0.49003322259136217,\n",
              " 0.28: 0.4848993288590604,\n",
              " 0.29: 0.4812286689419795,\n",
              " 0.3: 0.47577854671280273,\n",
              " 0.31: 0.4735915492957746,\n",
              " 0.32: 0.46348061316501354,\n",
              " 0.33: 0.46,\n",
              " 0.34: 0.4523809523809524,\n",
              " 0.35000000000000003: 0.4485981308411215,\n",
              " 0.36: 0.44380952380952376,\n",
              " 0.37: 0.4408084696823869,\n",
              " 0.38: 0.4327485380116959,\n",
              " 0.39: 0.4213649851632047,\n",
              " 0.4: 0.4187437686939182,\n",
              " 0.41000000000000003: 0.4177598385469223,\n",
              " 0.42: 0.4134419551934827,\n",
              " 0.43: 0.4110996916752312,\n",
              " 0.44: 0.4050104384133611,\n",
              " 0.45: 0.3940677966101695,\n",
              " 0.46: 0.38977635782747605,\n",
              " 0.47000000000000003: 0.3793103448275862,\n",
              " 0.48: 0.3726977248104009,\n",
              " 0.49: 0.36542669584245074,\n",
              " 0.5: 0.3580110497237569,\n",
              " 0.51: 0.3522853957636567,\n",
              " 0.52: 0.348314606741573,\n",
              " 0.53: 0.33674630261660976,\n",
              " 0.54: 0.3321878579610538,\n",
              " 0.55: 0.331415420023015,\n",
              " 0.56: 0.32444959443800697,\n",
              " 0.5700000000000001: 0.3146853146853147,\n",
              " 0.58: 0.303886925795053,\n",
              " 0.59: 0.29691211401425177,\n",
              " 0.6: 0.28947368421052627,\n",
              " 0.61: 0.28365384615384615,\n",
              " 0.62: 0.2718446601941747,\n",
              " 0.63: 0.25830258302583026,\n",
              " 0.64: 0.2518518518518518,\n",
              " 0.65: 0.24657534246575344,\n",
              " 0.66: 0.24150943396226415,\n",
              " 0.67: 0.24181360201511332,\n",
              " 0.68: 0.2351453855878635,\n",
              " 0.6900000000000001: 0.22477650063856963,\n",
              " 0.7000000000000001: 0.21850899742930593,\n",
              " 0.71: 0.21935483870967742,\n",
              " 0.72: 0.21614583333333337,\n",
              " 0.73: 0.20707732634338138,\n",
              " 0.74: 0.20105820105820105,\n",
              " 0.75: 0.17765814266487212,\n",
              " 0.76: 0.17142857142857143,\n",
              " 0.77: 0.16483516483516483,\n",
              " 0.78: 0.15256588072122054,\n",
              " 0.79: 0.1274787535410765,\n",
              " 0.8: 0.10935251798561152,\n",
              " 0.81: 0.10189228529839883,\n",
              " 0.8200000000000001: 0.07703703703703703,\n",
              " 0.8300000000000001: 0.051204819277108425,\n",
              " 0.84: 0.03058103975535168,\n",
              " 0.85: 0.02461538461538462,\n",
              " 0.86: 0.0124031007751938,\n",
              " 0.87: 0.00933125972006221,\n",
              " 0.88: 0.00933125972006221,\n",
              " 0.89: 0.0031201248049922002,\n",
              " 0.9: 0.0031201248049922002,\n",
              " 0.91: 0.0031201248049922002,\n",
              " 0.92: 0.0,\n",
              " 0.93: 0.0,\n",
              " 0.9400000000000001: 0.0,\n",
              " 0.9500000000000001: 0.0,\n",
              " 0.96: 0.0,\n",
              " 0.97: 0.0,\n",
              " 0.98: 0.0,\n",
              " 0.99: 0.0}"
            ]
          },
          "metadata": {
            "tags": []
          },
          "execution_count": 101
        }
      ]
    },
    {
      "cell_type": "code",
      "metadata": {
        "id": "8Ar8gH10FbUb"
      },
      "source": [
        "# dt_cost = dict()\n",
        "\n",
        "# for dt in np.arange(0.0, 1.0, 0.01):\n",
        "#     # print(f\"decision threshold: {dt:.2f}\")\n",
        "#     #### YOUR CODE HERE ####\n",
        "#     des = (lg.predict_proba(x_test)[:,1] == dt).astype(int)\n",
        "#     # preds = np.where(lg.predict_proba(x_test_s)[:,1] == dt, 1, 0)\n",
        "    \n",
        "#     # lg = LogisticRegression(class_weight = dt)\n",
        "#     # lg.fit(x_train_s, y_train)\n",
        "#     # prd = lg.predict(x_test_s)\n",
        "#     # conf = metrics.confusion_matrix(y_test, prd)\n",
        "#     # tn, fp, fn, tp = conf.ravel()\n",
        "#     # cost = fp + fn\n",
        "#     # dt_cost[dt] = cost\n",
        "#     # print(f'tn: {tn}, fp: {fp}, fn: {fn}, tp: {tp}')\n",
        "#     # print(conf)"
      ],
      "execution_count": null,
      "outputs": []
    }
  ]
}