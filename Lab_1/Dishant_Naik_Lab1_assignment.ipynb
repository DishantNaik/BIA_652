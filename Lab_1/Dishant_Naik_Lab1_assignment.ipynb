{
  "nbformat": 4,
  "nbformat_minor": 0,
  "metadata": {
    "kernelspec": {
      "display_name": "Python 3",
      "language": "python",
      "name": "python3"
    },
    "language_info": {
      "codemirror_mode": {
        "name": "ipython",
        "version": 3
      },
      "file_extension": ".py",
      "mimetype": "text/x-python",
      "name": "python",
      "nbconvert_exporter": "python",
      "pygments_lexer": "ipython3",
      "version": "3.7.1"
    },
    "toc": {
      "base_numbering": 1,
      "nav_menu": {},
      "number_sections": true,
      "sideBar": true,
      "skip_h1_title": false,
      "title_cell": "Table of Contents",
      "title_sidebar": "Contents",
      "toc_cell": false,
      "toc_position": {},
      "toc_section_display": true,
      "toc_window_display": false
    },
    "colab": {
      "name": "Dishant_Naik_Lab1_assignment.ipynb",
      "provenance": [],
      "collapsed_sections": []
    }
  },
  "cells": [
    {
      "cell_type": "markdown",
      "metadata": {
        "colab_type": "text",
        "id": "4ZFQ2nroIQrO"
      },
      "source": [
        "# BIA-652 Lab 1 Assignment. Intro to Pandas"
      ]
    },
    {
      "cell_type": "markdown",
      "metadata": {
        "id": "h8FVQszQUqzN",
        "colab_type": "text"
      },
      "source": [
        "Note: Please **DO NOT** share your answers with anyone, including uploading to Github, Course Hero, etc. "
      ]
    },
    {
      "cell_type": "markdown",
      "metadata": {
        "id": "ugJf5_2iUqzO",
        "colab_type": "text"
      },
      "source": [
        "### Your Name: "
      ]
    },
    {
      "cell_type": "markdown",
      "metadata": {
        "id": "p9NhVOAu2hQ8",
        "colab_type": "text"
      },
      "source": [
        "Name: Dishant Naik\n",
        "CWID: 10454341"
      ]
    },
    {
      "cell_type": "code",
      "metadata": {
        "id": "Cd9bmDa6UqzP",
        "colab_type": "code",
        "colab": {
          "base_uri": "https://localhost:8080/",
          "height": 70
        },
        "outputId": "64583aa6-f1f1-47c9-d7ab-034d6d258275"
      },
      "source": [
        "import numpy as np #numerical computation\n",
        "import pandas as pd #processing dataframes\n",
        "import matplotlib.pyplot as plt\n",
        "import seaborn as sns"
      ],
      "execution_count": 1,
      "outputs": [
        {
          "output_type": "stream",
          "text": [
            "/usr/local/lib/python3.6/dist-packages/statsmodels/tools/_testing.py:19: FutureWarning: pandas.util.testing is deprecated. Use the functions in the public API at pandas.testing instead.\n",
            "  import pandas.util.testing as tm\n"
          ],
          "name": "stderr"
        }
      ]
    },
    {
      "cell_type": "markdown",
      "metadata": {
        "colab_type": "text",
        "id": "PPRNhLHtIQrP"
      },
      "source": [
        "Use the `RegularSeasonCompactResults` data to answer the following questions:  "
      ]
    },
    {
      "cell_type": "code",
      "metadata": {
        "id": "2Ze7OCGGUqzU",
        "colab_type": "code",
        "colab": {}
      },
      "source": [
        "# Download example data set\n",
        "import urllib.request\n",
        "from zipfile import ZipFile\n",
        "\n",
        "urllib.request.urlretrieve(\"http://fengmai.net/download/data/bia652/pandas_data.zip\", \n",
        "                           \"pandas_data.zip\")\n",
        "ZipFile(\"pandas_data.zip\").extractall()\n",
        "df = pd.read_csv('data/RegularSeasonCompactResults.csv')"
      ],
      "execution_count": 2,
      "outputs": []
    },
    {
      "cell_type": "code",
      "metadata": {
        "id": "ObNCzjNAq8EW",
        "colab_type": "code",
        "colab": {
          "base_uri": "https://localhost:8080/",
          "height": 195
        },
        "outputId": "ab3cf7d9-d67f-42e0-d7db-e8775158d753"
      },
      "source": [
        "df.head()"
      ],
      "execution_count": 3,
      "outputs": [
        {
          "output_type": "execute_result",
          "data": {
            "text/html": [
              "<div>\n",
              "<style scoped>\n",
              "    .dataframe tbody tr th:only-of-type {\n",
              "        vertical-align: middle;\n",
              "    }\n",
              "\n",
              "    .dataframe tbody tr th {\n",
              "        vertical-align: top;\n",
              "    }\n",
              "\n",
              "    .dataframe thead th {\n",
              "        text-align: right;\n",
              "    }\n",
              "</style>\n",
              "<table border=\"1\" class=\"dataframe\">\n",
              "  <thead>\n",
              "    <tr style=\"text-align: right;\">\n",
              "      <th></th>\n",
              "      <th>Season</th>\n",
              "      <th>Daynum</th>\n",
              "      <th>Wteam</th>\n",
              "      <th>Wscore</th>\n",
              "      <th>Lteam</th>\n",
              "      <th>Lscore</th>\n",
              "      <th>Wloc</th>\n",
              "      <th>Numot</th>\n",
              "    </tr>\n",
              "  </thead>\n",
              "  <tbody>\n",
              "    <tr>\n",
              "      <th>0</th>\n",
              "      <td>1985</td>\n",
              "      <td>20</td>\n",
              "      <td>1228</td>\n",
              "      <td>81</td>\n",
              "      <td>1328</td>\n",
              "      <td>64</td>\n",
              "      <td>N</td>\n",
              "      <td>0</td>\n",
              "    </tr>\n",
              "    <tr>\n",
              "      <th>1</th>\n",
              "      <td>1985</td>\n",
              "      <td>25</td>\n",
              "      <td>1106</td>\n",
              "      <td>77</td>\n",
              "      <td>1354</td>\n",
              "      <td>70</td>\n",
              "      <td>H</td>\n",
              "      <td>0</td>\n",
              "    </tr>\n",
              "    <tr>\n",
              "      <th>2</th>\n",
              "      <td>1985</td>\n",
              "      <td>25</td>\n",
              "      <td>1112</td>\n",
              "      <td>63</td>\n",
              "      <td>1223</td>\n",
              "      <td>56</td>\n",
              "      <td>H</td>\n",
              "      <td>0</td>\n",
              "    </tr>\n",
              "    <tr>\n",
              "      <th>3</th>\n",
              "      <td>1985</td>\n",
              "      <td>25</td>\n",
              "      <td>1165</td>\n",
              "      <td>70</td>\n",
              "      <td>1432</td>\n",
              "      <td>54</td>\n",
              "      <td>H</td>\n",
              "      <td>0</td>\n",
              "    </tr>\n",
              "    <tr>\n",
              "      <th>4</th>\n",
              "      <td>1985</td>\n",
              "      <td>25</td>\n",
              "      <td>1192</td>\n",
              "      <td>86</td>\n",
              "      <td>1447</td>\n",
              "      <td>74</td>\n",
              "      <td>H</td>\n",
              "      <td>0</td>\n",
              "    </tr>\n",
              "  </tbody>\n",
              "</table>\n",
              "</div>"
            ],
            "text/plain": [
              "   Season  Daynum  Wteam  Wscore  Lteam  Lscore Wloc  Numot\n",
              "0    1985      20   1228      81   1328      64    N      0\n",
              "1    1985      25   1106      77   1354      70    H      0\n",
              "2    1985      25   1112      63   1223      56    H      0\n",
              "3    1985      25   1165      70   1432      54    H      0\n",
              "4    1985      25   1192      86   1447      74    H      0"
            ]
          },
          "metadata": {
            "tags": []
          },
          "execution_count": 3
        }
      ]
    },
    {
      "cell_type": "markdown",
      "metadata": {
        "colab_type": "text",
        "id": "95htFBkZIQrP"
      },
      "source": [
        "__Q1: Create a new column `total_score` as the sum of Wscore and Lscore.__ "
      ]
    },
    {
      "cell_type": "code",
      "metadata": {
        "id": "EZexgTeHqzQv",
        "colab_type": "code",
        "colab": {
          "base_uri": "https://localhost:8080/",
          "height": 195
        },
        "outputId": "90a778a0-6075-4597-fd75-459cbd08e4f1"
      },
      "source": [
        "df['total_sum'] = df.Wscore + df.Lscore\n",
        "df.head()"
      ],
      "execution_count": 4,
      "outputs": [
        {
          "output_type": "execute_result",
          "data": {
            "text/html": [
              "<div>\n",
              "<style scoped>\n",
              "    .dataframe tbody tr th:only-of-type {\n",
              "        vertical-align: middle;\n",
              "    }\n",
              "\n",
              "    .dataframe tbody tr th {\n",
              "        vertical-align: top;\n",
              "    }\n",
              "\n",
              "    .dataframe thead th {\n",
              "        text-align: right;\n",
              "    }\n",
              "</style>\n",
              "<table border=\"1\" class=\"dataframe\">\n",
              "  <thead>\n",
              "    <tr style=\"text-align: right;\">\n",
              "      <th></th>\n",
              "      <th>Season</th>\n",
              "      <th>Daynum</th>\n",
              "      <th>Wteam</th>\n",
              "      <th>Wscore</th>\n",
              "      <th>Lteam</th>\n",
              "      <th>Lscore</th>\n",
              "      <th>Wloc</th>\n",
              "      <th>Numot</th>\n",
              "      <th>total_sum</th>\n",
              "    </tr>\n",
              "  </thead>\n",
              "  <tbody>\n",
              "    <tr>\n",
              "      <th>0</th>\n",
              "      <td>1985</td>\n",
              "      <td>20</td>\n",
              "      <td>1228</td>\n",
              "      <td>81</td>\n",
              "      <td>1328</td>\n",
              "      <td>64</td>\n",
              "      <td>N</td>\n",
              "      <td>0</td>\n",
              "      <td>145</td>\n",
              "    </tr>\n",
              "    <tr>\n",
              "      <th>1</th>\n",
              "      <td>1985</td>\n",
              "      <td>25</td>\n",
              "      <td>1106</td>\n",
              "      <td>77</td>\n",
              "      <td>1354</td>\n",
              "      <td>70</td>\n",
              "      <td>H</td>\n",
              "      <td>0</td>\n",
              "      <td>147</td>\n",
              "    </tr>\n",
              "    <tr>\n",
              "      <th>2</th>\n",
              "      <td>1985</td>\n",
              "      <td>25</td>\n",
              "      <td>1112</td>\n",
              "      <td>63</td>\n",
              "      <td>1223</td>\n",
              "      <td>56</td>\n",
              "      <td>H</td>\n",
              "      <td>0</td>\n",
              "      <td>119</td>\n",
              "    </tr>\n",
              "    <tr>\n",
              "      <th>3</th>\n",
              "      <td>1985</td>\n",
              "      <td>25</td>\n",
              "      <td>1165</td>\n",
              "      <td>70</td>\n",
              "      <td>1432</td>\n",
              "      <td>54</td>\n",
              "      <td>H</td>\n",
              "      <td>0</td>\n",
              "      <td>124</td>\n",
              "    </tr>\n",
              "    <tr>\n",
              "      <th>4</th>\n",
              "      <td>1985</td>\n",
              "      <td>25</td>\n",
              "      <td>1192</td>\n",
              "      <td>86</td>\n",
              "      <td>1447</td>\n",
              "      <td>74</td>\n",
              "      <td>H</td>\n",
              "      <td>0</td>\n",
              "      <td>160</td>\n",
              "    </tr>\n",
              "  </tbody>\n",
              "</table>\n",
              "</div>"
            ],
            "text/plain": [
              "   Season  Daynum  Wteam  Wscore  Lteam  Lscore Wloc  Numot  total_sum\n",
              "0    1985      20   1228      81   1328      64    N      0        145\n",
              "1    1985      25   1106      77   1354      70    H      0        147\n",
              "2    1985      25   1112      63   1223      56    H      0        119\n",
              "3    1985      25   1165      70   1432      54    H      0        124\n",
              "4    1985      25   1192      86   1447      74    H      0        160"
            ]
          },
          "metadata": {
            "tags": []
          },
          "execution_count": 4
        }
      ]
    },
    {
      "cell_type": "markdown",
      "metadata": {
        "colab_type": "text",
        "id": "xTQdzwXPIQrR"
      },
      "source": [
        "__Q2: What is the min, max, average, and median of the total_score?__ "
      ]
    },
    {
      "cell_type": "code",
      "metadata": {
        "id": "oHzLtbbVshlX",
        "colab_type": "code",
        "colab": {
          "base_uri": "https://localhost:8080/",
          "height": 168
        },
        "outputId": "7bca3282-4131-46de-9b7d-bef501fd763c"
      },
      "source": [
        "df.total_sum.describe()"
      ],
      "execution_count": 5,
      "outputs": [
        {
          "output_type": "execute_result",
          "data": {
            "text/plain": [
              "count    145289.000000\n",
              "mean        141.097330\n",
              "std          21.601779\n",
              "min          62.000000\n",
              "25%         126.000000\n",
              "50%         140.000000\n",
              "75%         155.000000\n",
              "max         331.000000\n",
              "Name: total_sum, dtype: float64"
            ]
          },
          "metadata": {
            "tags": []
          },
          "execution_count": 5
        }
      ]
    },
    {
      "cell_type": "code",
      "metadata": {
        "id": "H6Vdtr_YtGsN",
        "colab_type": "code",
        "colab": {
          "base_uri": "https://localhost:8080/",
          "height": 34
        },
        "outputId": "a4392ab2-387d-4bbb-aaf5-d9bed506cc83"
      },
      "source": [
        "df.total_sum.median()"
      ],
      "execution_count": 6,
      "outputs": [
        {
          "output_type": "execute_result",
          "data": {
            "text/plain": [
              "140.0"
            ]
          },
          "metadata": {
            "tags": []
          },
          "execution_count": 6
        }
      ]
    },
    {
      "cell_type": "markdown",
      "metadata": {
        "id": "CmVVOV06spDs",
        "colab_type": "text"
      },
      "source": [
        "Min = 62.000000\n",
        "Max = 331.000000\n",
        "Average = 141.097330\n",
        "Median = 140.0"
      ]
    },
    {
      "cell_type": "markdown",
      "metadata": {
        "colab_type": "text",
        "id": "_qa-S2g0IQrT"
      },
      "source": [
        "__Q3: Find the average total score for each year (season).__ "
      ]
    },
    {
      "cell_type": "code",
      "metadata": {
        "id": "ODxPXp-ftvxG",
        "colab_type": "code",
        "colab": {
          "base_uri": "https://localhost:8080/",
          "height": 195
        },
        "outputId": "4264da5c-b884-4bab-96e6-ec07fde3c398"
      },
      "source": [
        "avg_total_score = df.groupby(['Season'])[['total_sum']].mean()\n",
        "avg_total_score.reset_index(inplace=True)\n",
        "avg_total_score.head()\n",
        "\n",
        "#NOTE: Here total_sum represents Average total score"
      ],
      "execution_count": 7,
      "outputs": [
        {
          "output_type": "execute_result",
          "data": {
            "text/html": [
              "<div>\n",
              "<style scoped>\n",
              "    .dataframe tbody tr th:only-of-type {\n",
              "        vertical-align: middle;\n",
              "    }\n",
              "\n",
              "    .dataframe tbody tr th {\n",
              "        vertical-align: top;\n",
              "    }\n",
              "\n",
              "    .dataframe thead th {\n",
              "        text-align: right;\n",
              "    }\n",
              "</style>\n",
              "<table border=\"1\" class=\"dataframe\">\n",
              "  <thead>\n",
              "    <tr style=\"text-align: right;\">\n",
              "      <th></th>\n",
              "      <th>Season</th>\n",
              "      <th>total_sum</th>\n",
              "    </tr>\n",
              "  </thead>\n",
              "  <tbody>\n",
              "    <tr>\n",
              "      <th>0</th>\n",
              "      <td>1985</td>\n",
              "      <td>138.583356</td>\n",
              "    </tr>\n",
              "    <tr>\n",
              "      <th>1</th>\n",
              "      <td>1986</td>\n",
              "      <td>138.447528</td>\n",
              "    </tr>\n",
              "    <tr>\n",
              "      <th>2</th>\n",
              "      <td>1987</td>\n",
              "      <td>144.764496</td>\n",
              "    </tr>\n",
              "    <tr>\n",
              "      <th>3</th>\n",
              "      <td>1988</td>\n",
              "      <td>147.470796</td>\n",
              "    </tr>\n",
              "    <tr>\n",
              "      <th>4</th>\n",
              "      <td>1989</td>\n",
              "      <td>151.259351</td>\n",
              "    </tr>\n",
              "  </tbody>\n",
              "</table>\n",
              "</div>"
            ],
            "text/plain": [
              "   Season   total_sum\n",
              "0    1985  138.583356\n",
              "1    1986  138.447528\n",
              "2    1987  144.764496\n",
              "3    1988  147.470796\n",
              "4    1989  151.259351"
            ]
          },
          "metadata": {
            "tags": []
          },
          "execution_count": 7
        }
      ]
    },
    {
      "cell_type": "markdown",
      "metadata": {
        "colab_type": "text",
        "id": "imXNpjC1IQrU"
      },
      "source": [
        "__Q4: Plot a time series plot of average total score by year (season)__ \n",
        "\n",
        "Hint: search Google for: how to plot a pandas series or [read the user guide](https://pandas.pydata.org/docs/user_guide/visualization.html)\n"
      ]
    },
    {
      "cell_type": "code",
      "metadata": {
        "id": "4WFM37fFxdfk",
        "colab_type": "code",
        "colab": {
          "base_uri": "https://localhost:8080/",
          "height": 405
        },
        "outputId": "fc0fdb2c-a9e4-4a20-f050-d99f1707005d"
      },
      "source": [
        "plt.figure(figsize=(14, 6))\n",
        "x = sns.lineplot(x = avg_total_score.Season, y = avg_total_score.total_sum,)\n",
        "x.set(xlabel=\"Season\", ylabel = \"Avg_total_score\")"
      ],
      "execution_count": 8,
      "outputs": [
        {
          "output_type": "execute_result",
          "data": {
            "text/plain": [
              "[Text(0, 0.5, 'Avg_total_score'), Text(0.5, 0, 'Season')]"
            ]
          },
          "metadata": {
            "tags": []
          },
          "execution_count": 8
        },
        {
          "output_type": "display_data",
          "data": {
            "image/png": "[encoded data removed]",
            "text/plain": [
              "<Figure size 1008x432 with 1 Axes>"
            ]
          },
          "metadata": {
            "tags": [],
            "needs_background": "light"
          }
        }
      ]
    },
    {
      "cell_type": "markdown",
      "metadata": {
        "colab_type": "text",
        "id": "b9OTlGDYIQrW"
      },
      "source": [
        "__Q5: Which year has the highest percentage of blowout games, which is defined as a winning margin of at least 30 points?__ \n",
        "\n"
      ]
    },
    {
      "cell_type": "code",
      "metadata": {
        "id": "05YdowhF4xpR",
        "colab_type": "code",
        "colab": {
          "base_uri": "https://localhost:8080/",
          "height": 195
        },
        "outputId": "11be5ab5-46e7-4341-fcde-777021c1cc03"
      },
      "source": [
        "# New column blowout wihich contains 0 if NO blowout and 1 if blowout\n",
        "df['blowout'] = df.apply(lambda x:1 if (x['Wscore'] - x['Lscore'] >= 30) else 0, axis=1)\n",
        "df.head()"
      ],
      "execution_count": 9,
      "outputs": [
        {
          "output_type": "execute_result",
          "data": {
            "text/html": [
              "<div>\n",
              "<style scoped>\n",
              "    .dataframe tbody tr th:only-of-type {\n",
              "        vertical-align: middle;\n",
              "    }\n",
              "\n",
              "    .dataframe tbody tr th {\n",
              "        vertical-align: top;\n",
              "    }\n",
              "\n",
              "    .dataframe thead th {\n",
              "        text-align: right;\n",
              "    }\n",
              "</style>\n",
              "<table border=\"1\" class=\"dataframe\">\n",
              "  <thead>\n",
              "    <tr style=\"text-align: right;\">\n",
              "      <th></th>\n",
              "      <th>Season</th>\n",
              "      <th>Daynum</th>\n",
              "      <th>Wteam</th>\n",
              "      <th>Wscore</th>\n",
              "      <th>Lteam</th>\n",
              "      <th>Lscore</th>\n",
              "      <th>Wloc</th>\n",
              "      <th>Numot</th>\n",
              "      <th>total_sum</th>\n",
              "      <th>blowout</th>\n",
              "    </tr>\n",
              "  </thead>\n",
              "  <tbody>\n",
              "    <tr>\n",
              "      <th>0</th>\n",
              "      <td>1985</td>\n",
              "      <td>20</td>\n",
              "      <td>1228</td>\n",
              "      <td>81</td>\n",
              "      <td>1328</td>\n",
              "      <td>64</td>\n",
              "      <td>N</td>\n",
              "      <td>0</td>\n",
              "      <td>145</td>\n",
              "      <td>0</td>\n",
              "    </tr>\n",
              "    <tr>\n",
              "      <th>1</th>\n",
              "      <td>1985</td>\n",
              "      <td>25</td>\n",
              "      <td>1106</td>\n",
              "      <td>77</td>\n",
              "      <td>1354</td>\n",
              "      <td>70</td>\n",
              "      <td>H</td>\n",
              "      <td>0</td>\n",
              "      <td>147</td>\n",
              "      <td>0</td>\n",
              "    </tr>\n",
              "    <tr>\n",
              "      <th>2</th>\n",
              "      <td>1985</td>\n",
              "      <td>25</td>\n",
              "      <td>1112</td>\n",
              "      <td>63</td>\n",
              "      <td>1223</td>\n",
              "      <td>56</td>\n",
              "      <td>H</td>\n",
              "      <td>0</td>\n",
              "      <td>119</td>\n",
              "      <td>0</td>\n",
              "    </tr>\n",
              "    <tr>\n",
              "      <th>3</th>\n",
              "      <td>1985</td>\n",
              "      <td>25</td>\n",
              "      <td>1165</td>\n",
              "      <td>70</td>\n",
              "      <td>1432</td>\n",
              "      <td>54</td>\n",
              "      <td>H</td>\n",
              "      <td>0</td>\n",
              "      <td>124</td>\n",
              "      <td>0</td>\n",
              "    </tr>\n",
              "    <tr>\n",
              "      <th>4</th>\n",
              "      <td>1985</td>\n",
              "      <td>25</td>\n",
              "      <td>1192</td>\n",
              "      <td>86</td>\n",
              "      <td>1447</td>\n",
              "      <td>74</td>\n",
              "      <td>H</td>\n",
              "      <td>0</td>\n",
              "      <td>160</td>\n",
              "      <td>0</td>\n",
              "    </tr>\n",
              "  </tbody>\n",
              "</table>\n",
              "</div>"
            ],
            "text/plain": [
              "   Season  Daynum  Wteam  Wscore  Lteam  Lscore Wloc  Numot  total_sum  blowout\n",
              "0    1985      20   1228      81   1328      64    N      0        145        0\n",
              "1    1985      25   1106      77   1354      70    H      0        147        0\n",
              "2    1985      25   1112      63   1223      56    H      0        119        0\n",
              "3    1985      25   1165      70   1432      54    H      0        124        0\n",
              "4    1985      25   1192      86   1447      74    H      0        160        0"
            ]
          },
          "metadata": {
            "tags": []
          },
          "execution_count": 9
        }
      ]
    },
    {
      "cell_type": "code",
      "metadata": {
        "id": "37CTEu8g8szA",
        "colab_type": "code",
        "colab": {
          "base_uri": "https://localhost:8080/",
          "height": 195
        },
        "outputId": "aad676a0-f9f8-4efd-ca05-099777d3982f"
      },
      "source": [
        "# Adding all the 1s in blowout column using group by season to find total number of blowout per year\n",
        "tmp1_df = df.groupby(['Season'])[['blowout']].sum()\n",
        "tmp1_df.reset_index(inplace=True)\n",
        "tmp1_df.head()"
      ],
      "execution_count": 10,
      "outputs": [
        {
          "output_type": "execute_result",
          "data": {
            "text/html": [
              "<div>\n",
              "<style scoped>\n",
              "    .dataframe tbody tr th:only-of-type {\n",
              "        vertical-align: middle;\n",
              "    }\n",
              "\n",
              "    .dataframe tbody tr th {\n",
              "        vertical-align: top;\n",
              "    }\n",
              "\n",
              "    .dataframe thead th {\n",
              "        text-align: right;\n",
              "    }\n",
              "</style>\n",
              "<table border=\"1\" class=\"dataframe\">\n",
              "  <thead>\n",
              "    <tr style=\"text-align: right;\">\n",
              "      <th></th>\n",
              "      <th>Season</th>\n",
              "      <th>blowout</th>\n",
              "    </tr>\n",
              "  </thead>\n",
              "  <tbody>\n",
              "    <tr>\n",
              "      <th>0</th>\n",
              "      <td>1985</td>\n",
              "      <td>166</td>\n",
              "    </tr>\n",
              "    <tr>\n",
              "      <th>1</th>\n",
              "      <td>1986</td>\n",
              "      <td>187</td>\n",
              "    </tr>\n",
              "    <tr>\n",
              "      <th>2</th>\n",
              "      <td>1987</td>\n",
              "      <td>185</td>\n",
              "    </tr>\n",
              "    <tr>\n",
              "      <th>3</th>\n",
              "      <td>1988</td>\n",
              "      <td>242</td>\n",
              "    </tr>\n",
              "    <tr>\n",
              "      <th>4</th>\n",
              "      <td>1989</td>\n",
              "      <td>260</td>\n",
              "    </tr>\n",
              "  </tbody>\n",
              "</table>\n",
              "</div>"
            ],
            "text/plain": [
              "   Season  blowout\n",
              "0    1985      166\n",
              "1    1986      187\n",
              "2    1987      185\n",
              "3    1988      242\n",
              "4    1989      260"
            ]
          },
          "metadata": {
            "tags": []
          },
          "execution_count": 10
        }
      ]
    },
    {
      "cell_type": "code",
      "metadata": {
        "id": "PBbHkxpXDuQN",
        "colab_type": "code",
        "colab": {
          "base_uri": "https://localhost:8080/",
          "height": 195
        },
        "outputId": "34193f0b-72e0-48d4-e705-53f006e6ca69"
      },
      "source": [
        "# creating tmp col with 1 in all the records to aid process of counting total match\n",
        "# Adding up all the 1s in tmp by season to determin total numbers of matches played in each year \n",
        "df['tmp'] = 1\n",
        "tmp2_df = df.groupby(['Season'])[['tmp']].sum()\n",
        "tmp2_df.reset_index(inplace=True)\n",
        "tmp2_df.head()\n",
        "\n",
        "# Here tmp series describes total number of match played in the season"
      ],
      "execution_count": 11,
      "outputs": [
        {
          "output_type": "execute_result",
          "data": {
            "text/html": [
              "<div>\n",
              "<style scoped>\n",
              "    .dataframe tbody tr th:only-of-type {\n",
              "        vertical-align: middle;\n",
              "    }\n",
              "\n",
              "    .dataframe tbody tr th {\n",
              "        vertical-align: top;\n",
              "    }\n",
              "\n",
              "    .dataframe thead th {\n",
              "        text-align: right;\n",
              "    }\n",
              "</style>\n",
              "<table border=\"1\" class=\"dataframe\">\n",
              "  <thead>\n",
              "    <tr style=\"text-align: right;\">\n",
              "      <th></th>\n",
              "      <th>Season</th>\n",
              "      <th>tmp</th>\n",
              "    </tr>\n",
              "  </thead>\n",
              "  <tbody>\n",
              "    <tr>\n",
              "      <th>0</th>\n",
              "      <td>1985</td>\n",
              "      <td>3737</td>\n",
              "    </tr>\n",
              "    <tr>\n",
              "      <th>1</th>\n",
              "      <td>1986</td>\n",
              "      <td>3783</td>\n",
              "    </tr>\n",
              "    <tr>\n",
              "      <th>2</th>\n",
              "      <td>1987</td>\n",
              "      <td>3915</td>\n",
              "    </tr>\n",
              "    <tr>\n",
              "      <th>3</th>\n",
              "      <td>1988</td>\n",
              "      <td>3955</td>\n",
              "    </tr>\n",
              "    <tr>\n",
              "      <th>4</th>\n",
              "      <td>1989</td>\n",
              "      <td>4037</td>\n",
              "    </tr>\n",
              "  </tbody>\n",
              "</table>\n",
              "</div>"
            ],
            "text/plain": [
              "   Season   tmp\n",
              "0    1985  3737\n",
              "1    1986  3783\n",
              "2    1987  3915\n",
              "3    1988  3955\n",
              "4    1989  4037"
            ]
          },
          "metadata": {
            "tags": []
          },
          "execution_count": 11
        }
      ]
    },
    {
      "cell_type": "code",
      "metadata": {
        "id": "aSkv91fzEkCE",
        "colab_type": "code",
        "colab": {
          "base_uri": "https://localhost:8080/",
          "height": 195
        },
        "outputId": "6f6d7c9a-8e4e-464b-d6bc-a99fe64c4f63"
      },
      "source": [
        "# Joining blowout and tmp(which is total numbers of matches) to calculate blowout percentage\n",
        "tmp3_df = pd.merge(tmp1_df,tmp2_df,how='inner')\n",
        "tmp3_df.head()"
      ],
      "execution_count": 12,
      "outputs": [
        {
          "output_type": "execute_result",
          "data": {
            "text/html": [
              "<div>\n",
              "<style scoped>\n",
              "    .dataframe tbody tr th:only-of-type {\n",
              "        vertical-align: middle;\n",
              "    }\n",
              "\n",
              "    .dataframe tbody tr th {\n",
              "        vertical-align: top;\n",
              "    }\n",
              "\n",
              "    .dataframe thead th {\n",
              "        text-align: right;\n",
              "    }\n",
              "</style>\n",
              "<table border=\"1\" class=\"dataframe\">\n",
              "  <thead>\n",
              "    <tr style=\"text-align: right;\">\n",
              "      <th></th>\n",
              "      <th>Season</th>\n",
              "      <th>blowout</th>\n",
              "      <th>tmp</th>\n",
              "    </tr>\n",
              "  </thead>\n",
              "  <tbody>\n",
              "    <tr>\n",
              "      <th>0</th>\n",
              "      <td>1985</td>\n",
              "      <td>166</td>\n",
              "      <td>3737</td>\n",
              "    </tr>\n",
              "    <tr>\n",
              "      <th>1</th>\n",
              "      <td>1986</td>\n",
              "      <td>187</td>\n",
              "      <td>3783</td>\n",
              "    </tr>\n",
              "    <tr>\n",
              "      <th>2</th>\n",
              "      <td>1987</td>\n",
              "      <td>185</td>\n",
              "      <td>3915</td>\n",
              "    </tr>\n",
              "    <tr>\n",
              "      <th>3</th>\n",
              "      <td>1988</td>\n",
              "      <td>242</td>\n",
              "      <td>3955</td>\n",
              "    </tr>\n",
              "    <tr>\n",
              "      <th>4</th>\n",
              "      <td>1989</td>\n",
              "      <td>260</td>\n",
              "      <td>4037</td>\n",
              "    </tr>\n",
              "  </tbody>\n",
              "</table>\n",
              "</div>"
            ],
            "text/plain": [
              "   Season  blowout   tmp\n",
              "0    1985      166  3737\n",
              "1    1986      187  3783\n",
              "2    1987      185  3915\n",
              "3    1988      242  3955\n",
              "4    1989      260  4037"
            ]
          },
          "metadata": {
            "tags": []
          },
          "execution_count": 12
        }
      ]
    },
    {
      "cell_type": "code",
      "metadata": {
        "id": "ffjv-vcmLy5K",
        "colab_type": "code",
        "colab": {
          "base_uri": "https://localhost:8080/",
          "height": 195
        },
        "outputId": "845a6df0-d290-40d2-fe12-26b8be8f51f9"
      },
      "source": [
        "tmp3_df['blowout_per'] = (tmp3_df.blowout / tmp3_df.tmp) * 100\n",
        "tmp3_df.head()"
      ],
      "execution_count": 13,
      "outputs": [
        {
          "output_type": "execute_result",
          "data": {
            "text/html": [
              "<div>\n",
              "<style scoped>\n",
              "    .dataframe tbody tr th:only-of-type {\n",
              "        vertical-align: middle;\n",
              "    }\n",
              "\n",
              "    .dataframe tbody tr th {\n",
              "        vertical-align: top;\n",
              "    }\n",
              "\n",
              "    .dataframe thead th {\n",
              "        text-align: right;\n",
              "    }\n",
              "</style>\n",
              "<table border=\"1\" class=\"dataframe\">\n",
              "  <thead>\n",
              "    <tr style=\"text-align: right;\">\n",
              "      <th></th>\n",
              "      <th>Season</th>\n",
              "      <th>blowout</th>\n",
              "      <th>tmp</th>\n",
              "      <th>blowout_per</th>\n",
              "    </tr>\n",
              "  </thead>\n",
              "  <tbody>\n",
              "    <tr>\n",
              "      <th>0</th>\n",
              "      <td>1985</td>\n",
              "      <td>166</td>\n",
              "      <td>3737</td>\n",
              "      <td>4.442066</td>\n",
              "    </tr>\n",
              "    <tr>\n",
              "      <th>1</th>\n",
              "      <td>1986</td>\n",
              "      <td>187</td>\n",
              "      <td>3783</td>\n",
              "      <td>4.943167</td>\n",
              "    </tr>\n",
              "    <tr>\n",
              "      <th>2</th>\n",
              "      <td>1987</td>\n",
              "      <td>185</td>\n",
              "      <td>3915</td>\n",
              "      <td>4.725415</td>\n",
              "    </tr>\n",
              "    <tr>\n",
              "      <th>3</th>\n",
              "      <td>1988</td>\n",
              "      <td>242</td>\n",
              "      <td>3955</td>\n",
              "      <td>6.118837</td>\n",
              "    </tr>\n",
              "    <tr>\n",
              "      <th>4</th>\n",
              "      <td>1989</td>\n",
              "      <td>260</td>\n",
              "      <td>4037</td>\n",
              "      <td>6.440426</td>\n",
              "    </tr>\n",
              "  </tbody>\n",
              "</table>\n",
              "</div>"
            ],
            "text/plain": [
              "   Season  blowout   tmp  blowout_per\n",
              "0    1985      166  3737     4.442066\n",
              "1    1986      187  3783     4.943167\n",
              "2    1987      185  3915     4.725415\n",
              "3    1988      242  3955     6.118837\n",
              "4    1989      260  4037     6.440426"
            ]
          },
          "metadata": {
            "tags": []
          },
          "execution_count": 13
        }
      ]
    },
    {
      "cell_type": "code",
      "metadata": {
        "id": "PrMwUonAMQqQ",
        "colab_type": "code",
        "colab": {
          "base_uri": "https://localhost:8080/",
          "height": 77
        },
        "outputId": "f2183c38-6252-4bc7-dc23-8a3b9e96d92f"
      },
      "source": [
        "max = tmp3_df.blowout_per.max()\n",
        "tmp3_df.loc[tmp3_df['blowout_per'] == max]"
      ],
      "execution_count": 14,
      "outputs": [
        {
          "output_type": "execute_result",
          "data": {
            "text/html": [
              "<div>\n",
              "<style scoped>\n",
              "    .dataframe tbody tr th:only-of-type {\n",
              "        vertical-align: middle;\n",
              "    }\n",
              "\n",
              "    .dataframe tbody tr th {\n",
              "        vertical-align: top;\n",
              "    }\n",
              "\n",
              "    .dataframe thead th {\n",
              "        text-align: right;\n",
              "    }\n",
              "</style>\n",
              "<table border=\"1\" class=\"dataframe\">\n",
              "  <thead>\n",
              "    <tr style=\"text-align: right;\">\n",
              "      <th></th>\n",
              "      <th>Season</th>\n",
              "      <th>blowout</th>\n",
              "      <th>tmp</th>\n",
              "      <th>blowout_per</th>\n",
              "    </tr>\n",
              "  </thead>\n",
              "  <tbody>\n",
              "    <tr>\n",
              "      <th>6</th>\n",
              "      <td>1991</td>\n",
              "      <td>291</td>\n",
              "      <td>4123</td>\n",
              "      <td>7.057967</td>\n",
              "    </tr>\n",
              "  </tbody>\n",
              "</table>\n",
              "</div>"
            ],
            "text/plain": [
              "   Season  blowout   tmp  blowout_per\n",
              "6    1991      291  4123     7.057967"
            ]
          },
          "metadata": {
            "tags": []
          },
          "execution_count": 14
        }
      ]
    },
    {
      "cell_type": "markdown",
      "metadata": {
        "id": "ib6-mtb5UqzZ",
        "colab_type": "text"
      },
      "source": [
        "**Q6: For each team and season combination,   \n",
        "a) find the average number of points scored by the team per game in each season;  \n",
        "b) plot the average points scored by team 1461 by year.**\n",
        "\n",
        "Hint: This requires you to consider both the case when the team won (Wscore) and when the team lost (Lscore).  \n",
        "Your answer for each team-year combination should be between Wscore_when_winning and Lscore_when_losing in the last dataframe of the tutorial. "
      ]
    },
    {
      "cell_type": "code",
      "metadata": {
        "id": "hQu2IQUKrX2C",
        "colab_type": "code",
        "colab": {
          "base_uri": "https://localhost:8080/",
          "height": 34
        },
        "outputId": "2261c32f-3f24-4d2b-e5af-abd45e1e9e24"
      },
      "source": [
        "#Num of points scored by each team in a year while winning\n",
        "tmp1 = df.groupby(['Season','Wteam']).Wscore.sum()\n",
        "tmp1 = tmp1.reset_index()\n",
        "type(tmp1)"
      ],
      "execution_count": 15,
      "outputs": [
        {
          "output_type": "execute_result",
          "data": {
            "text/plain": [
              "pandas.core.frame.DataFrame"
            ]
          },
          "metadata": {
            "tags": []
          },
          "execution_count": 15
        }
      ]
    },
    {
      "cell_type": "code",
      "metadata": {
        "id": "zDjvH_THz1TQ",
        "colab_type": "code",
        "colab": {
          "base_uri": "https://localhost:8080/",
          "height": 195
        },
        "outputId": "e7446ece-0e0f-49d0-9821-c286b5aca094"
      },
      "source": [
        "tmp1.head()"
      ],
      "execution_count": 16,
      "outputs": [
        {
          "output_type": "execute_result",
          "data": {
            "text/html": [
              "<div>\n",
              "<style scoped>\n",
              "    .dataframe tbody tr th:only-of-type {\n",
              "        vertical-align: middle;\n",
              "    }\n",
              "\n",
              "    .dataframe tbody tr th {\n",
              "        vertical-align: top;\n",
              "    }\n",
              "\n",
              "    .dataframe thead th {\n",
              "        text-align: right;\n",
              "    }\n",
              "</style>\n",
              "<table border=\"1\" class=\"dataframe\">\n",
              "  <thead>\n",
              "    <tr style=\"text-align: right;\">\n",
              "      <th></th>\n",
              "      <th>Season</th>\n",
              "      <th>Wteam</th>\n",
              "      <th>Wscore</th>\n",
              "    </tr>\n",
              "  </thead>\n",
              "  <tbody>\n",
              "    <tr>\n",
              "      <th>0</th>\n",
              "      <td>1985</td>\n",
              "      <td>1102</td>\n",
              "      <td>355</td>\n",
              "    </tr>\n",
              "    <tr>\n",
              "      <th>1</th>\n",
              "      <td>1985</td>\n",
              "      <td>1103</td>\n",
              "      <td>632</td>\n",
              "    </tr>\n",
              "    <tr>\n",
              "      <th>2</th>\n",
              "      <td>1985</td>\n",
              "      <td>1104</td>\n",
              "      <td>1514</td>\n",
              "    </tr>\n",
              "    <tr>\n",
              "      <th>3</th>\n",
              "      <td>1985</td>\n",
              "      <td>1106</td>\n",
              "      <td>751</td>\n",
              "    </tr>\n",
              "    <tr>\n",
              "      <th>4</th>\n",
              "      <td>1985</td>\n",
              "      <td>1108</td>\n",
              "      <td>1631</td>\n",
              "    </tr>\n",
              "  </tbody>\n",
              "</table>\n",
              "</div>"
            ],
            "text/plain": [
              "   Season  Wteam  Wscore\n",
              "0    1985   1102     355\n",
              "1    1985   1103     632\n",
              "2    1985   1104    1514\n",
              "3    1985   1106     751\n",
              "4    1985   1108    1631"
            ]
          },
          "metadata": {
            "tags": []
          },
          "execution_count": 16
        }
      ]
    },
    {
      "cell_type": "code",
      "metadata": {
        "id": "KrNx2GOCtl3R",
        "colab_type": "code",
        "colab": {
          "base_uri": "https://localhost:8080/",
          "height": 195
        },
        "outputId": "52ab9af3-bdb4-4d6a-f5cc-6c4072876047"
      },
      "source": [
        "#Num of points scored by each team in a year while losing\n",
        "tmp2 = df.groupby(['Season','Lteam']).Lscore.sum()\n",
        "tmp2 = tmp2.reset_index()\n",
        "tmp2.head()"
      ],
      "execution_count": 17,
      "outputs": [
        {
          "output_type": "execute_result",
          "data": {
            "text/html": [
              "<div>\n",
              "<style scoped>\n",
              "    .dataframe tbody tr th:only-of-type {\n",
              "        vertical-align: middle;\n",
              "    }\n",
              "\n",
              "    .dataframe tbody tr th {\n",
              "        vertical-align: top;\n",
              "    }\n",
              "\n",
              "    .dataframe thead th {\n",
              "        text-align: right;\n",
              "    }\n",
              "</style>\n",
              "<table border=\"1\" class=\"dataframe\">\n",
              "  <thead>\n",
              "    <tr style=\"text-align: right;\">\n",
              "      <th></th>\n",
              "      <th>Season</th>\n",
              "      <th>Lteam</th>\n",
              "      <th>Lscore</th>\n",
              "    </tr>\n",
              "  </thead>\n",
              "  <tbody>\n",
              "    <tr>\n",
              "      <th>0</th>\n",
              "      <td>1985</td>\n",
              "      <td>1102</td>\n",
              "      <td>1159</td>\n",
              "    </tr>\n",
              "    <tr>\n",
              "      <th>1</th>\n",
              "      <td>1985</td>\n",
              "      <td>1103</td>\n",
              "      <td>772</td>\n",
              "    </tr>\n",
              "    <tr>\n",
              "      <th>2</th>\n",
              "      <td>1985</td>\n",
              "      <td>1104</td>\n",
              "      <td>541</td>\n",
              "    </tr>\n",
              "    <tr>\n",
              "      <th>3</th>\n",
              "      <td>1985</td>\n",
              "      <td>1106</td>\n",
              "      <td>968</td>\n",
              "    </tr>\n",
              "    <tr>\n",
              "      <th>4</th>\n",
              "      <td>1985</td>\n",
              "      <td>1108</td>\n",
              "      <td>444</td>\n",
              "    </tr>\n",
              "  </tbody>\n",
              "</table>\n",
              "</div>"
            ],
            "text/plain": [
              "   Season  Lteam  Lscore\n",
              "0    1985   1102    1159\n",
              "1    1985   1103     772\n",
              "2    1985   1104     541\n",
              "3    1985   1106     968\n",
              "4    1985   1108     444"
            ]
          },
          "metadata": {
            "tags": []
          },
          "execution_count": 17
        }
      ]
    },
    {
      "cell_type": "code",
      "metadata": {
        "id": "5RX9AfgEzE99",
        "colab_type": "code",
        "colab": {
          "base_uri": "https://localhost:8080/",
          "height": 195
        },
        "outputId": "39c13ae5-6967-4189-a6d0-30df081a40b8"
      },
      "source": [
        "# mearging tmp1 and tmp2 to calculate total number of points scored by each team in a year\n",
        "tmp22 = pd.merge(tmp1,tmp2,how='inner',left_on=['Season','Wteam'],right_on=['Season','Lteam'])\n",
        "tmp22.head()"
      ],
      "execution_count": 18,
      "outputs": [
        {
          "output_type": "execute_result",
          "data": {
            "text/html": [
              "<div>\n",
              "<style scoped>\n",
              "    .dataframe tbody tr th:only-of-type {\n",
              "        vertical-align: middle;\n",
              "    }\n",
              "\n",
              "    .dataframe tbody tr th {\n",
              "        vertical-align: top;\n",
              "    }\n",
              "\n",
              "    .dataframe thead th {\n",
              "        text-align: right;\n",
              "    }\n",
              "</style>\n",
              "<table border=\"1\" class=\"dataframe\">\n",
              "  <thead>\n",
              "    <tr style=\"text-align: right;\">\n",
              "      <th></th>\n",
              "      <th>Season</th>\n",
              "      <th>Wteam</th>\n",
              "      <th>Wscore</th>\n",
              "      <th>Lteam</th>\n",
              "      <th>Lscore</th>\n",
              "    </tr>\n",
              "  </thead>\n",
              "  <tbody>\n",
              "    <tr>\n",
              "      <th>0</th>\n",
              "      <td>1985</td>\n",
              "      <td>1102</td>\n",
              "      <td>355</td>\n",
              "      <td>1102</td>\n",
              "      <td>1159</td>\n",
              "    </tr>\n",
              "    <tr>\n",
              "      <th>1</th>\n",
              "      <td>1985</td>\n",
              "      <td>1103</td>\n",
              "      <td>632</td>\n",
              "      <td>1103</td>\n",
              "      <td>772</td>\n",
              "    </tr>\n",
              "    <tr>\n",
              "      <th>2</th>\n",
              "      <td>1985</td>\n",
              "      <td>1104</td>\n",
              "      <td>1514</td>\n",
              "      <td>1104</td>\n",
              "      <td>541</td>\n",
              "    </tr>\n",
              "    <tr>\n",
              "      <th>3</th>\n",
              "      <td>1985</td>\n",
              "      <td>1106</td>\n",
              "      <td>751</td>\n",
              "      <td>1106</td>\n",
              "      <td>968</td>\n",
              "    </tr>\n",
              "    <tr>\n",
              "      <th>4</th>\n",
              "      <td>1985</td>\n",
              "      <td>1108</td>\n",
              "      <td>1631</td>\n",
              "      <td>1108</td>\n",
              "      <td>444</td>\n",
              "    </tr>\n",
              "  </tbody>\n",
              "</table>\n",
              "</div>"
            ],
            "text/plain": [
              "   Season  Wteam  Wscore  Lteam  Lscore\n",
              "0    1985   1102     355   1102    1159\n",
              "1    1985   1103     632   1103     772\n",
              "2    1985   1104    1514   1104     541\n",
              "3    1985   1106     751   1106     968\n",
              "4    1985   1108    1631   1108     444"
            ]
          },
          "metadata": {
            "tags": []
          },
          "execution_count": 18
        }
      ]
    },
    {
      "cell_type": "code",
      "metadata": {
        "id": "i9ONFlEJ0m_I",
        "colab_type": "code",
        "colab": {
          "base_uri": "https://localhost:8080/",
          "height": 195
        },
        "outputId": "c56ee19f-da15-4181-da72-c0afe27a4d66"
      },
      "source": [
        "#Num of games played by each team in each year while winning\n",
        "tmp11 = df.groupby(['Season','Wteam']).tmp.sum()\n",
        "tmp11 = tmp11.reset_index()\n",
        "tmp11.head()"
      ],
      "execution_count": 21,
      "outputs": [
        {
          "output_type": "execute_result",
          "data": {
            "text/html": [
              "<div>\n",
              "<style scoped>\n",
              "    .dataframe tbody tr th:only-of-type {\n",
              "        vertical-align: middle;\n",
              "    }\n",
              "\n",
              "    .dataframe tbody tr th {\n",
              "        vertical-align: top;\n",
              "    }\n",
              "\n",
              "    .dataframe thead th {\n",
              "        text-align: right;\n",
              "    }\n",
              "</style>\n",
              "<table border=\"1\" class=\"dataframe\">\n",
              "  <thead>\n",
              "    <tr style=\"text-align: right;\">\n",
              "      <th></th>\n",
              "      <th>Season</th>\n",
              "      <th>Wteam</th>\n",
              "      <th>tmp</th>\n",
              "    </tr>\n",
              "  </thead>\n",
              "  <tbody>\n",
              "    <tr>\n",
              "      <th>0</th>\n",
              "      <td>1985</td>\n",
              "      <td>1102</td>\n",
              "      <td>5</td>\n",
              "    </tr>\n",
              "    <tr>\n",
              "      <th>1</th>\n",
              "      <td>1985</td>\n",
              "      <td>1103</td>\n",
              "      <td>9</td>\n",
              "    </tr>\n",
              "    <tr>\n",
              "      <th>2</th>\n",
              "      <td>1985</td>\n",
              "      <td>1104</td>\n",
              "      <td>21</td>\n",
              "    </tr>\n",
              "    <tr>\n",
              "      <th>3</th>\n",
              "      <td>1985</td>\n",
              "      <td>1106</td>\n",
              "      <td>10</td>\n",
              "    </tr>\n",
              "    <tr>\n",
              "      <th>4</th>\n",
              "      <td>1985</td>\n",
              "      <td>1108</td>\n",
              "      <td>19</td>\n",
              "    </tr>\n",
              "  </tbody>\n",
              "</table>\n",
              "</div>"
            ],
            "text/plain": [
              "   Season  Wteam  tmp\n",
              "0    1985   1102    5\n",
              "1    1985   1103    9\n",
              "2    1985   1104   21\n",
              "3    1985   1106   10\n",
              "4    1985   1108   19"
            ]
          },
          "metadata": {
            "tags": []
          },
          "execution_count": 21
        }
      ]
    },
    {
      "cell_type": "code",
      "metadata": {
        "id": "-u_b4bVT1jhS",
        "colab_type": "code",
        "colab": {
          "base_uri": "https://localhost:8080/",
          "height": 195
        },
        "outputId": "9ce0c9be-16de-4614-82a2-1115fc4a3420"
      },
      "source": [
        "#Num of games played by each team in each year while losing\n",
        "tmp111 = df.groupby(['Season','Lteam']).tmp.sum()\n",
        "tmp111 = tmp111.reset_index()\n",
        "tmp111.head()"
      ],
      "execution_count": 22,
      "outputs": [
        {
          "output_type": "execute_result",
          "data": {
            "text/html": [
              "<div>\n",
              "<style scoped>\n",
              "    .dataframe tbody tr th:only-of-type {\n",
              "        vertical-align: middle;\n",
              "    }\n",
              "\n",
              "    .dataframe tbody tr th {\n",
              "        vertical-align: top;\n",
              "    }\n",
              "\n",
              "    .dataframe thead th {\n",
              "        text-align: right;\n",
              "    }\n",
              "</style>\n",
              "<table border=\"1\" class=\"dataframe\">\n",
              "  <thead>\n",
              "    <tr style=\"text-align: right;\">\n",
              "      <th></th>\n",
              "      <th>Season</th>\n",
              "      <th>Lteam</th>\n",
              "      <th>tmp</th>\n",
              "    </tr>\n",
              "  </thead>\n",
              "  <tbody>\n",
              "    <tr>\n",
              "      <th>0</th>\n",
              "      <td>1985</td>\n",
              "      <td>1102</td>\n",
              "      <td>19</td>\n",
              "    </tr>\n",
              "    <tr>\n",
              "      <th>1</th>\n",
              "      <td>1985</td>\n",
              "      <td>1103</td>\n",
              "      <td>14</td>\n",
              "    </tr>\n",
              "    <tr>\n",
              "      <th>2</th>\n",
              "      <td>1985</td>\n",
              "      <td>1104</td>\n",
              "      <td>9</td>\n",
              "    </tr>\n",
              "    <tr>\n",
              "      <th>3</th>\n",
              "      <td>1985</td>\n",
              "      <td>1106</td>\n",
              "      <td>14</td>\n",
              "    </tr>\n",
              "    <tr>\n",
              "      <th>4</th>\n",
              "      <td>1985</td>\n",
              "      <td>1108</td>\n",
              "      <td>6</td>\n",
              "    </tr>\n",
              "  </tbody>\n",
              "</table>\n",
              "</div>"
            ],
            "text/plain": [
              "   Season  Lteam  tmp\n",
              "0    1985   1102   19\n",
              "1    1985   1103   14\n",
              "2    1985   1104    9\n",
              "3    1985   1106   14\n",
              "4    1985   1108    6"
            ]
          },
          "metadata": {
            "tags": []
          },
          "execution_count": 22
        }
      ]
    },
    {
      "cell_type": "code",
      "metadata": {
        "id": "1qrqKaQJ1phU",
        "colab_type": "code",
        "colab": {
          "base_uri": "https://localhost:8080/",
          "height": 195
        },
        "outputId": "0dc469cf-8840-429a-9ac6-cf4e2c83a704"
      },
      "source": [
        "tmp1111 = pd.merge(tmp11,tmp111,how='inner',left_on=['Season','Wteam'],right_on=['Season','Lteam'])\n",
        "tmp1111['total_games']  = tmp1111.tmp_x + tmp1111.tmp_y\n",
        "tmp1111.head()\n",
        "\n",
        "# Note tmp_x = total numbrs of games played by a team in a year while winning\n",
        "# Note tmp_y = total numbrs of games played by a team in a year while Losing"
      ],
      "execution_count": 23,
      "outputs": [
        {
          "output_type": "execute_result",
          "data": {
            "text/html": [
              "<div>\n",
              "<style scoped>\n",
              "    .dataframe tbody tr th:only-of-type {\n",
              "        vertical-align: middle;\n",
              "    }\n",
              "\n",
              "    .dataframe tbody tr th {\n",
              "        vertical-align: top;\n",
              "    }\n",
              "\n",
              "    .dataframe thead th {\n",
              "        text-align: right;\n",
              "    }\n",
              "</style>\n",
              "<table border=\"1\" class=\"dataframe\">\n",
              "  <thead>\n",
              "    <tr style=\"text-align: right;\">\n",
              "      <th></th>\n",
              "      <th>Season</th>\n",
              "      <th>Wteam</th>\n",
              "      <th>tmp_x</th>\n",
              "      <th>Lteam</th>\n",
              "      <th>tmp_y</th>\n",
              "      <th>total_games</th>\n",
              "    </tr>\n",
              "  </thead>\n",
              "  <tbody>\n",
              "    <tr>\n",
              "      <th>0</th>\n",
              "      <td>1985</td>\n",
              "      <td>1102</td>\n",
              "      <td>5</td>\n",
              "      <td>1102</td>\n",
              "      <td>19</td>\n",
              "      <td>24</td>\n",
              "    </tr>\n",
              "    <tr>\n",
              "      <th>1</th>\n",
              "      <td>1985</td>\n",
              "      <td>1103</td>\n",
              "      <td>9</td>\n",
              "      <td>1103</td>\n",
              "      <td>14</td>\n",
              "      <td>23</td>\n",
              "    </tr>\n",
              "    <tr>\n",
              "      <th>2</th>\n",
              "      <td>1985</td>\n",
              "      <td>1104</td>\n",
              "      <td>21</td>\n",
              "      <td>1104</td>\n",
              "      <td>9</td>\n",
              "      <td>30</td>\n",
              "    </tr>\n",
              "    <tr>\n",
              "      <th>3</th>\n",
              "      <td>1985</td>\n",
              "      <td>1106</td>\n",
              "      <td>10</td>\n",
              "      <td>1106</td>\n",
              "      <td>14</td>\n",
              "      <td>24</td>\n",
              "    </tr>\n",
              "    <tr>\n",
              "      <th>4</th>\n",
              "      <td>1985</td>\n",
              "      <td>1108</td>\n",
              "      <td>19</td>\n",
              "      <td>1108</td>\n",
              "      <td>6</td>\n",
              "      <td>25</td>\n",
              "    </tr>\n",
              "  </tbody>\n",
              "</table>\n",
              "</div>"
            ],
            "text/plain": [
              "   Season  Wteam  tmp_x  Lteam  tmp_y  total_games\n",
              "0    1985   1102      5   1102     19           24\n",
              "1    1985   1103      9   1103     14           23\n",
              "2    1985   1104     21   1104      9           30\n",
              "3    1985   1106     10   1106     14           24\n",
              "4    1985   1108     19   1108      6           25"
            ]
          },
          "metadata": {
            "tags": []
          },
          "execution_count": 23
        }
      ]
    },
    {
      "cell_type": "code",
      "metadata": {
        "id": "m38Wf7fU31uY",
        "colab_type": "code",
        "colab": {
          "base_uri": "https://localhost:8080/",
          "height": 195
        },
        "outputId": "2611c291-f5ec-4779-9f41-39e0c940c9a9"
      },
      "source": [
        "tmp_final = pd.merge(tmp22,tmp1111,how='inner',left_on=['Season','Wteam','Lteam'],right_on=['Season','Wteam','Lteam'])\n",
        "tmp_final.head()"
      ],
      "execution_count": 34,
      "outputs": [
        {
          "output_type": "execute_result",
          "data": {
            "text/html": [
              "<div>\n",
              "<style scoped>\n",
              "    .dataframe tbody tr th:only-of-type {\n",
              "        vertical-align: middle;\n",
              "    }\n",
              "\n",
              "    .dataframe tbody tr th {\n",
              "        vertical-align: top;\n",
              "    }\n",
              "\n",
              "    .dataframe thead th {\n",
              "        text-align: right;\n",
              "    }\n",
              "</style>\n",
              "<table border=\"1\" class=\"dataframe\">\n",
              "  <thead>\n",
              "    <tr style=\"text-align: right;\">\n",
              "      <th></th>\n",
              "      <th>Season</th>\n",
              "      <th>Wteam</th>\n",
              "      <th>Wscore</th>\n",
              "      <th>Lteam</th>\n",
              "      <th>Lscore</th>\n",
              "      <th>total_score</th>\n",
              "      <th>tmp_x</th>\n",
              "      <th>tmp_y</th>\n",
              "      <th>total_games</th>\n",
              "    </tr>\n",
              "  </thead>\n",
              "  <tbody>\n",
              "    <tr>\n",
              "      <th>0</th>\n",
              "      <td>1985</td>\n",
              "      <td>1102</td>\n",
              "      <td>355</td>\n",
              "      <td>1102</td>\n",
              "      <td>1159</td>\n",
              "      <td>1514</td>\n",
              "      <td>5</td>\n",
              "      <td>19</td>\n",
              "      <td>24</td>\n",
              "    </tr>\n",
              "    <tr>\n",
              "      <th>1</th>\n",
              "      <td>1985</td>\n",
              "      <td>1103</td>\n",
              "      <td>632</td>\n",
              "      <td>1103</td>\n",
              "      <td>772</td>\n",
              "      <td>1404</td>\n",
              "      <td>9</td>\n",
              "      <td>14</td>\n",
              "      <td>23</td>\n",
              "    </tr>\n",
              "    <tr>\n",
              "      <th>2</th>\n",
              "      <td>1985</td>\n",
              "      <td>1104</td>\n",
              "      <td>1514</td>\n",
              "      <td>1104</td>\n",
              "      <td>541</td>\n",
              "      <td>2055</td>\n",
              "      <td>21</td>\n",
              "      <td>9</td>\n",
              "      <td>30</td>\n",
              "    </tr>\n",
              "    <tr>\n",
              "      <th>3</th>\n",
              "      <td>1985</td>\n",
              "      <td>1106</td>\n",
              "      <td>751</td>\n",
              "      <td>1106</td>\n",
              "      <td>968</td>\n",
              "      <td>1719</td>\n",
              "      <td>10</td>\n",
              "      <td>14</td>\n",
              "      <td>24</td>\n",
              "    </tr>\n",
              "    <tr>\n",
              "      <th>4</th>\n",
              "      <td>1985</td>\n",
              "      <td>1108</td>\n",
              "      <td>1631</td>\n",
              "      <td>1108</td>\n",
              "      <td>444</td>\n",
              "      <td>2075</td>\n",
              "      <td>19</td>\n",
              "      <td>6</td>\n",
              "      <td>25</td>\n",
              "    </tr>\n",
              "  </tbody>\n",
              "</table>\n",
              "</div>"
            ],
            "text/plain": [
              "   Season  Wteam  Wscore  Lteam  Lscore  total_score  tmp_x  tmp_y  total_games\n",
              "0    1985   1102     355   1102    1159         1514      5     19           24\n",
              "1    1985   1103     632   1103     772         1404      9     14           23\n",
              "2    1985   1104    1514   1104     541         2055     21      9           30\n",
              "3    1985   1106     751   1106     968         1719     10     14           24\n",
              "4    1985   1108    1631   1108     444         2075     19      6           25"
            ]
          },
          "metadata": {
            "tags": []
          },
          "execution_count": 34
        }
      ]
    },
    {
      "cell_type": "code",
      "metadata": {
        "id": "WWZytgUN4NDJ",
        "colab_type": "code",
        "colab": {
          "base_uri": "https://localhost:8080/",
          "height": 195
        },
        "outputId": "161f41b4-3226-4c4f-a4ee-3b1ba82402fd"
      },
      "source": [
        "tmp_final.rename(columns={'tmp_x':'No_games_winning','tmp_y':'No_games_losing'},inplace=True)\n",
        "tmp_final.head()"
      ],
      "execution_count": 38,
      "outputs": [
        {
          "output_type": "execute_result",
          "data": {
            "text/html": [
              "<div>\n",
              "<style scoped>\n",
              "    .dataframe tbody tr th:only-of-type {\n",
              "        vertical-align: middle;\n",
              "    }\n",
              "\n",
              "    .dataframe tbody tr th {\n",
              "        vertical-align: top;\n",
              "    }\n",
              "\n",
              "    .dataframe thead th {\n",
              "        text-align: right;\n",
              "    }\n",
              "</style>\n",
              "<table border=\"1\" class=\"dataframe\">\n",
              "  <thead>\n",
              "    <tr style=\"text-align: right;\">\n",
              "      <th></th>\n",
              "      <th>Season</th>\n",
              "      <th>Wteam</th>\n",
              "      <th>Wscore</th>\n",
              "      <th>Lteam</th>\n",
              "      <th>Lscore</th>\n",
              "      <th>total_score</th>\n",
              "      <th>No_games_winning</th>\n",
              "      <th>No_games_losing</th>\n",
              "      <th>total_games</th>\n",
              "    </tr>\n",
              "  </thead>\n",
              "  <tbody>\n",
              "    <tr>\n",
              "      <th>0</th>\n",
              "      <td>1985</td>\n",
              "      <td>1102</td>\n",
              "      <td>355</td>\n",
              "      <td>1102</td>\n",
              "      <td>1159</td>\n",
              "      <td>1514</td>\n",
              "      <td>5</td>\n",
              "      <td>19</td>\n",
              "      <td>24</td>\n",
              "    </tr>\n",
              "    <tr>\n",
              "      <th>1</th>\n",
              "      <td>1985</td>\n",
              "      <td>1103</td>\n",
              "      <td>632</td>\n",
              "      <td>1103</td>\n",
              "      <td>772</td>\n",
              "      <td>1404</td>\n",
              "      <td>9</td>\n",
              "      <td>14</td>\n",
              "      <td>23</td>\n",
              "    </tr>\n",
              "    <tr>\n",
              "      <th>2</th>\n",
              "      <td>1985</td>\n",
              "      <td>1104</td>\n",
              "      <td>1514</td>\n",
              "      <td>1104</td>\n",
              "      <td>541</td>\n",
              "      <td>2055</td>\n",
              "      <td>21</td>\n",
              "      <td>9</td>\n",
              "      <td>30</td>\n",
              "    </tr>\n",
              "    <tr>\n",
              "      <th>3</th>\n",
              "      <td>1985</td>\n",
              "      <td>1106</td>\n",
              "      <td>751</td>\n",
              "      <td>1106</td>\n",
              "      <td>968</td>\n",
              "      <td>1719</td>\n",
              "      <td>10</td>\n",
              "      <td>14</td>\n",
              "      <td>24</td>\n",
              "    </tr>\n",
              "    <tr>\n",
              "      <th>4</th>\n",
              "      <td>1985</td>\n",
              "      <td>1108</td>\n",
              "      <td>1631</td>\n",
              "      <td>1108</td>\n",
              "      <td>444</td>\n",
              "      <td>2075</td>\n",
              "      <td>19</td>\n",
              "      <td>6</td>\n",
              "      <td>25</td>\n",
              "    </tr>\n",
              "  </tbody>\n",
              "</table>\n",
              "</div>"
            ],
            "text/plain": [
              "   Season  Wteam  Wscore  ...  No_games_winning  No_games_losing  total_games\n",
              "0    1985   1102     355  ...                 5               19           24\n",
              "1    1985   1103     632  ...                 9               14           23\n",
              "2    1985   1104    1514  ...                21                9           30\n",
              "3    1985   1106     751  ...                10               14           24\n",
              "4    1985   1108    1631  ...                19                6           25\n",
              "\n",
              "[5 rows x 9 columns]"
            ]
          },
          "metadata": {
            "tags": []
          },
          "execution_count": 38
        }
      ]
    },
    {
      "cell_type": "code",
      "metadata": {
        "id": "fUpL1J4OSgFJ",
        "colab_type": "code",
        "colab": {}
      },
      "source": [
        "tmp_final['weights'] = (tmp_final.Wscore * tmp_final.No_games_winning) + (tmp_final.Lscore * tmp_final.No_games_losing)"
      ],
      "execution_count": 47,
      "outputs": []
    },
    {
      "cell_type": "code",
      "metadata": {
        "id": "Z_qMF44dSwvQ",
        "colab_type": "code",
        "colab": {}
      },
      "source": [
        "tmp_final['Avg_score'] = tmp_final.weights / tmp_final.total_games"
      ],
      "execution_count": 49,
      "outputs": []
    },
    {
      "cell_type": "code",
      "metadata": {
        "id": "J8dync9vTGjp",
        "colab_type": "code",
        "colab": {
          "base_uri": "https://localhost:8080/",
          "height": 195
        },
        "outputId": "3d388eec-e7d6-402a-eecd-23d470f8e122"
      },
      "source": [
        "tmp_final.head()"
      ],
      "execution_count": 50,
      "outputs": [
        {
          "output_type": "execute_result",
          "data": {
            "text/html": [
              "<div>\n",
              "<style scoped>\n",
              "    .dataframe tbody tr th:only-of-type {\n",
              "        vertical-align: middle;\n",
              "    }\n",
              "\n",
              "    .dataframe tbody tr th {\n",
              "        vertical-align: top;\n",
              "    }\n",
              "\n",
              "    .dataframe thead th {\n",
              "        text-align: right;\n",
              "    }\n",
              "</style>\n",
              "<table border=\"1\" class=\"dataframe\">\n",
              "  <thead>\n",
              "    <tr style=\"text-align: right;\">\n",
              "      <th></th>\n",
              "      <th>Season</th>\n",
              "      <th>Wteam</th>\n",
              "      <th>Wscore</th>\n",
              "      <th>Lteam</th>\n",
              "      <th>Lscore</th>\n",
              "      <th>total_score</th>\n",
              "      <th>No_games_winning</th>\n",
              "      <th>No_games_losing</th>\n",
              "      <th>total_games</th>\n",
              "      <th>weights</th>\n",
              "      <th>Avg_score</th>\n",
              "    </tr>\n",
              "  </thead>\n",
              "  <tbody>\n",
              "    <tr>\n",
              "      <th>0</th>\n",
              "      <td>1985</td>\n",
              "      <td>1102</td>\n",
              "      <td>355</td>\n",
              "      <td>1102</td>\n",
              "      <td>1159</td>\n",
              "      <td>1514</td>\n",
              "      <td>5</td>\n",
              "      <td>19</td>\n",
              "      <td>24</td>\n",
              "      <td>23796</td>\n",
              "      <td>991.500000</td>\n",
              "    </tr>\n",
              "    <tr>\n",
              "      <th>1</th>\n",
              "      <td>1985</td>\n",
              "      <td>1103</td>\n",
              "      <td>632</td>\n",
              "      <td>1103</td>\n",
              "      <td>772</td>\n",
              "      <td>1404</td>\n",
              "      <td>9</td>\n",
              "      <td>14</td>\n",
              "      <td>23</td>\n",
              "      <td>16496</td>\n",
              "      <td>717.217391</td>\n",
              "    </tr>\n",
              "    <tr>\n",
              "      <th>2</th>\n",
              "      <td>1985</td>\n",
              "      <td>1104</td>\n",
              "      <td>1514</td>\n",
              "      <td>1104</td>\n",
              "      <td>541</td>\n",
              "      <td>2055</td>\n",
              "      <td>21</td>\n",
              "      <td>9</td>\n",
              "      <td>30</td>\n",
              "      <td>36663</td>\n",
              "      <td>1222.100000</td>\n",
              "    </tr>\n",
              "    <tr>\n",
              "      <th>3</th>\n",
              "      <td>1985</td>\n",
              "      <td>1106</td>\n",
              "      <td>751</td>\n",
              "      <td>1106</td>\n",
              "      <td>968</td>\n",
              "      <td>1719</td>\n",
              "      <td>10</td>\n",
              "      <td>14</td>\n",
              "      <td>24</td>\n",
              "      <td>21062</td>\n",
              "      <td>877.583333</td>\n",
              "    </tr>\n",
              "    <tr>\n",
              "      <th>4</th>\n",
              "      <td>1985</td>\n",
              "      <td>1108</td>\n",
              "      <td>1631</td>\n",
              "      <td>1108</td>\n",
              "      <td>444</td>\n",
              "      <td>2075</td>\n",
              "      <td>19</td>\n",
              "      <td>6</td>\n",
              "      <td>25</td>\n",
              "      <td>33653</td>\n",
              "      <td>1346.120000</td>\n",
              "    </tr>\n",
              "  </tbody>\n",
              "</table>\n",
              "</div>"
            ],
            "text/plain": [
              "   Season  Wteam  Wscore  ...  total_games  weights    Avg_score\n",
              "0    1985   1102     355  ...           24    23796   991.500000\n",
              "1    1985   1103     632  ...           23    16496   717.217391\n",
              "2    1985   1104    1514  ...           30    36663  1222.100000\n",
              "3    1985   1106     751  ...           24    21062   877.583333\n",
              "4    1985   1108    1631  ...           25    33653  1346.120000\n",
              "\n",
              "[5 rows x 11 columns]"
            ]
          },
          "metadata": {
            "tags": []
          },
          "execution_count": 50
        }
      ]
    },
    {
      "cell_type": "code",
      "metadata": {
        "id": "4qtr7Be6TP8Y",
        "colab_type": "code",
        "colab": {}
      },
      "source": [
        ""
      ],
      "execution_count": null,
      "outputs": []
    },
    {
      "cell_type": "code",
      "metadata": {
        "id": "F46oRAMvBTmz",
        "colab_type": "code",
        "colab": {
          "base_uri": "https://localhost:8080/",
          "height": 195
        },
        "outputId": "7cab7159-ebe1-45ee-b1a0-faf59ad88d69"
      },
      "source": [
        "#plot the average points scored by team 1461 by year 5(b)\n",
        "sub_final = tmp_final.loc[tmp_final['Wteam'] == 1461]\n",
        "sub_final.head()"
      ],
      "execution_count": 51,
      "outputs": [
        {
          "output_type": "execute_result",
          "data": {
            "text/html": [
              "<div>\n",
              "<style scoped>\n",
              "    .dataframe tbody tr th:only-of-type {\n",
              "        vertical-align: middle;\n",
              "    }\n",
              "\n",
              "    .dataframe tbody tr th {\n",
              "        vertical-align: top;\n",
              "    }\n",
              "\n",
              "    .dataframe thead th {\n",
              "        text-align: right;\n",
              "    }\n",
              "</style>\n",
              "<table border=\"1\" class=\"dataframe\">\n",
              "  <thead>\n",
              "    <tr style=\"text-align: right;\">\n",
              "      <th></th>\n",
              "      <th>Season</th>\n",
              "      <th>Wteam</th>\n",
              "      <th>Wscore</th>\n",
              "      <th>Lteam</th>\n",
              "      <th>Lscore</th>\n",
              "      <th>total_score</th>\n",
              "      <th>No_games_winning</th>\n",
              "      <th>No_games_losing</th>\n",
              "      <th>total_games</th>\n",
              "      <th>weights</th>\n",
              "      <th>Avg_score</th>\n",
              "    </tr>\n",
              "  </thead>\n",
              "  <tbody>\n",
              "    <tr>\n",
              "      <th>278</th>\n",
              "      <td>1985</td>\n",
              "      <td>1461</td>\n",
              "      <td>823</td>\n",
              "      <td>1461</td>\n",
              "      <td>830</td>\n",
              "      <td>1653</td>\n",
              "      <td>12</td>\n",
              "      <td>14</td>\n",
              "      <td>26</td>\n",
              "      <td>21496</td>\n",
              "      <td>826.769231</td>\n",
              "    </tr>\n",
              "    <tr>\n",
              "      <th>560</th>\n",
              "      <td>1986</td>\n",
              "      <td>1461</td>\n",
              "      <td>1290</td>\n",
              "      <td>1461</td>\n",
              "      <td>699</td>\n",
              "      <td>1989</td>\n",
              "      <td>18</td>\n",
              "      <td>11</td>\n",
              "      <td>29</td>\n",
              "      <td>30909</td>\n",
              "      <td>1065.827586</td>\n",
              "    </tr>\n",
              "    <tr>\n",
              "      <th>849</th>\n",
              "      <td>1987</td>\n",
              "      <td>1461</td>\n",
              "      <td>1507</td>\n",
              "      <td>1461</td>\n",
              "      <td>608</td>\n",
              "      <td>2115</td>\n",
              "      <td>21</td>\n",
              "      <td>9</td>\n",
              "      <td>30</td>\n",
              "      <td>37119</td>\n",
              "      <td>1237.300000</td>\n",
              "    </tr>\n",
              "    <tr>\n",
              "      <th>1139</th>\n",
              "      <td>1988</td>\n",
              "      <td>1461</td>\n",
              "      <td>1957</td>\n",
              "      <td>1461</td>\n",
              "      <td>319</td>\n",
              "      <td>2276</td>\n",
              "      <td>25</td>\n",
              "      <td>5</td>\n",
              "      <td>30</td>\n",
              "      <td>50520</td>\n",
              "      <td>1684.000000</td>\n",
              "    </tr>\n",
              "    <tr>\n",
              "      <th>1432</th>\n",
              "      <td>1989</td>\n",
              "      <td>1461</td>\n",
              "      <td>1123</td>\n",
              "      <td>1461</td>\n",
              "      <td>1134</td>\n",
              "      <td>2257</td>\n",
              "      <td>14</td>\n",
              "      <td>17</td>\n",
              "      <td>31</td>\n",
              "      <td>35000</td>\n",
              "      <td>1129.032258</td>\n",
              "    </tr>\n",
              "  </tbody>\n",
              "</table>\n",
              "</div>"
            ],
            "text/plain": [
              "      Season  Wteam  Wscore  ...  total_games  weights    Avg_score\n",
              "278     1985   1461     823  ...           26    21496   826.769231\n",
              "560     1986   1461    1290  ...           29    30909  1065.827586\n",
              "849     1987   1461    1507  ...           30    37119  1237.300000\n",
              "1139    1988   1461    1957  ...           30    50520  1684.000000\n",
              "1432    1989   1461    1123  ...           31    35000  1129.032258\n",
              "\n",
              "[5 rows x 11 columns]"
            ]
          },
          "metadata": {
            "tags": []
          },
          "execution_count": 51
        }
      ]
    },
    {
      "cell_type": "code",
      "metadata": {
        "id": "VN8e9NciD2q9",
        "colab_type": "code",
        "colab": {
          "base_uri": "https://localhost:8080/",
          "height": 941
        },
        "outputId": "092dda80-2be9-46fc-e552-1cacfdd8cd36"
      },
      "source": [
        "plt.figure(figsize=(14, 6))\n",
        "x = sns.barplot(x = sub_final.Season, y = sub_final.Avg_score)\n",
        "x.set(xlabel=\"Season\", ylabel = \"Avg_score\")\n",
        "x.set_xticklabels(x.get_xticklabels(),rotation=45)"
      ],
      "execution_count": 53,
      "outputs": [
        {
          "output_type": "execute_result",
          "data": {
            "text/plain": [
              "[Text(0, 0, '1985'),\n",
              " Text(0, 0, '1986'),\n",
              " Text(0, 0, '1987'),\n",
              " Text(0, 0, '1988'),\n",
              " Text(0, 0, '1989'),\n",
              " Text(0, 0, '1990'),\n",
              " Text(0, 0, '1991'),\n",
              " Text(0, 0, '1992'),\n",
              " Text(0, 0, '1993'),\n",
              " Text(0, 0, '1994'),\n",
              " Text(0, 0, '1995'),\n",
              " Text(0, 0, '1996'),\n",
              " Text(0, 0, '1997'),\n",
              " Text(0, 0, '1998'),\n",
              " Text(0, 0, '1999'),\n",
              " Text(0, 0, '2000'),\n",
              " Text(0, 0, '2001'),\n",
              " Text(0, 0, '2002'),\n",
              " Text(0, 0, '2003'),\n",
              " Text(0, 0, '2004'),\n",
              " Text(0, 0, '2005'),\n",
              " Text(0, 0, '2006'),\n",
              " Text(0, 0, '2007'),\n",
              " Text(0, 0, '2008'),\n",
              " Text(0, 0, '2009'),\n",
              " Text(0, 0, '2010'),\n",
              " Text(0, 0, '2011'),\n",
              " Text(0, 0, '2012'),\n",
              " Text(0, 0, '2013'),\n",
              " Text(0, 0, '2014'),\n",
              " Text(0, 0, '2015'),\n",
              " Text(0, 0, '2016')]"
            ]
          },
          "metadata": {
            "tags": []
          },
          "execution_count": 53
        },
        {
          "output_type": "display_data",
          "data": {
            "image/png": "[encoded data removed]",
            "text/plain": [
              "<Figure size 1008x432 with 1 Axes>"
            ]
          },
          "metadata": {
            "tags": [],
            "needs_background": "light"
          }
        }
      ]
    }
  ]
}