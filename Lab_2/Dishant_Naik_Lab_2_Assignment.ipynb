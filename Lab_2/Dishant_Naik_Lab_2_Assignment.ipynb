{
  "nbformat": 4,
  "nbformat_minor": 0,
  "metadata": {
    "kernelspec": {
      "display_name": "Python 3",
      "language": "python",
      "name": "python3"
    },
    "language_info": {
      "codemirror_mode": {
        "name": "ipython",
        "version": 3
      },
      "file_extension": ".py",
      "mimetype": "text/x-python",
      "name": "python",
      "nbconvert_exporter": "python",
      "pygments_lexer": "ipython3",
      "version": "3.7.1"
    },
    "toc": {
      "base_numbering": 1,
      "nav_menu": {},
      "number_sections": true,
      "sideBar": true,
      "skip_h1_title": false,
      "title_cell": "Table of Contents",
      "title_sidebar": "Contents",
      "toc_cell": false,
      "toc_position": {},
      "toc_section_display": true,
      "toc_window_display": false
    },
    "colab": {
      "name": "Dishant Naik Lab 2 - Assignment.ipynb",
      "provenance": [],
      "collapsed_sections": []
    },
    "widgets": {
      "application/vnd.jupyter.widget-state+json": {
        "b0a25198c63f41fda31d9951c78ace79": {
          "model_module": "@jupyter-widgets/controls",
          "model_name": "HBoxModel",
          "state": {
            "_view_name": "HBoxView",
            "_dom_classes": [],
            "_model_name": "HBoxModel",
            "_view_module": "@jupyter-widgets/controls",
            "_model_module_version": "1.5.0",
            "_view_count": null,
            "_view_module_version": "1.5.0",
            "box_style": "",
            "layout": "IPY_MODEL_66d656128b4c4d67ab3c741353baf8b4",
            "_model_module": "@jupyter-widgets/controls",
            "children": [
              "IPY_MODEL_a9063da5bdc247f5ad8de91b68f7f51a",
              "IPY_MODEL_61ca496d55b049a1b8ffde6de2bc2860"
            ]
          }
        },
        "66d656128b4c4d67ab3c741353baf8b4": {
          "model_module": "@jupyter-widgets/base",
          "model_name": "LayoutModel",
          "state": {
            "_view_name": "LayoutView",
            "grid_template_rows": null,
            "right": null,
            "justify_content": null,
            "_view_module": "@jupyter-widgets/base",
            "overflow": null,
            "_model_module_version": "1.2.0",
            "_view_count": null,
            "flex_flow": null,
            "width": null,
            "min_width": null,
            "border": null,
            "align_items": null,
            "bottom": null,
            "_model_module": "@jupyter-widgets/base",
            "top": null,
            "grid_column": null,
            "overflow_y": null,
            "overflow_x": null,
            "grid_auto_flow": null,
            "grid_area": null,
            "grid_template_columns": null,
            "flex": null,
            "_model_name": "LayoutModel",
            "justify_items": null,
            "grid_row": null,
            "max_height": null,
            "align_content": null,
            "visibility": null,
            "align_self": null,
            "height": null,
            "min_height": null,
            "padding": null,
            "grid_auto_rows": null,
            "grid_gap": null,
            "max_width": null,
            "order": null,
            "_view_module_version": "1.2.0",
            "grid_template_areas": null,
            "object_position": null,
            "object_fit": null,
            "grid_auto_columns": null,
            "margin": null,
            "display": null,
            "left": null
          }
        },
        "a9063da5bdc247f5ad8de91b68f7f51a": {
          "model_module": "@jupyter-widgets/controls",
          "model_name": "FloatProgressModel",
          "state": {
            "_view_name": "ProgressView",
            "style": "IPY_MODEL_7b53b31a72ab4fcbace2adb8a59d67f2",
            "_dom_classes": [],
            "description": "100%",
            "_model_name": "FloatProgressModel",
            "bar_style": "success",
            "max": 5000,
            "_view_module": "@jupyter-widgets/controls",
            "_model_module_version": "1.5.0",
            "value": 5000,
            "_view_count": null,
            "_view_module_version": "1.5.0",
            "orientation": "horizontal",
            "min": 0,
            "description_tooltip": null,
            "_model_module": "@jupyter-widgets/controls",
            "layout": "IPY_MODEL_8acd8ee6e14b4a5281f368cfa305bf75"
          }
        },
        "61ca496d55b049a1b8ffde6de2bc2860": {
          "model_module": "@jupyter-widgets/controls",
          "model_name": "HTMLModel",
          "state": {
            "_view_name": "HTMLView",
            "style": "IPY_MODEL_83fd474f90f34bdea579bf6a1da5da2e",
            "_dom_classes": [],
            "description": "",
            "_model_name": "HTMLModel",
            "placeholder": "​",
            "_view_module": "@jupyter-widgets/controls",
            "_model_module_version": "1.5.0",
            "value": " 5000/5000 [00:43&lt;00:00, 114.51it/s]",
            "_view_count": null,
            "_view_module_version": "1.5.0",
            "description_tooltip": null,
            "_model_module": "@jupyter-widgets/controls",
            "layout": "IPY_MODEL_a63000d88c3b4dd49d2a3339db693733"
          }
        },
        "7b53b31a72ab4fcbace2adb8a59d67f2": {
          "model_module": "@jupyter-widgets/controls",
          "model_name": "ProgressStyleModel",
          "state": {
            "_view_name": "StyleView",
            "_model_name": "ProgressStyleModel",
            "description_width": "initial",
            "_view_module": "@jupyter-widgets/base",
            "_model_module_version": "1.5.0",
            "_view_count": null,
            "_view_module_version": "1.2.0",
            "bar_color": null,
            "_model_module": "@jupyter-widgets/controls"
          }
        },
        "8acd8ee6e14b4a5281f368cfa305bf75": {
          "model_module": "@jupyter-widgets/base",
          "model_name": "LayoutModel",
          "state": {
            "_view_name": "LayoutView",
            "grid_template_rows": null,
            "right": null,
            "justify_content": null,
            "_view_module": "@jupyter-widgets/base",
            "overflow": null,
            "_model_module_version": "1.2.0",
            "_view_count": null,
            "flex_flow": null,
            "width": null,
            "min_width": null,
            "border": null,
            "align_items": null,
            "bottom": null,
            "_model_module": "@jupyter-widgets/base",
            "top": null,
            "grid_column": null,
            "overflow_y": null,
            "overflow_x": null,
            "grid_auto_flow": null,
            "grid_area": null,
            "grid_template_columns": null,
            "flex": null,
            "_model_name": "LayoutModel",
            "justify_items": null,
            "grid_row": null,
            "max_height": null,
            "align_content": null,
            "visibility": null,
            "align_self": null,
            "height": null,
            "min_height": null,
            "padding": null,
            "grid_auto_rows": null,
            "grid_gap": null,
            "max_width": null,
            "order": null,
            "_view_module_version": "1.2.0",
            "grid_template_areas": null,
            "object_position": null,
            "object_fit": null,
            "grid_auto_columns": null,
            "margin": null,
            "display": null,
            "left": null
          }
        },
        "83fd474f90f34bdea579bf6a1da5da2e": {
          "model_module": "@jupyter-widgets/controls",
          "model_name": "DescriptionStyleModel",
          "state": {
            "_view_name": "StyleView",
            "_model_name": "DescriptionStyleModel",
            "description_width": "",
            "_view_module": "@jupyter-widgets/base",
            "_model_module_version": "1.5.0",
            "_view_count": null,
            "_view_module_version": "1.2.0",
            "_model_module": "@jupyter-widgets/controls"
          }
        },
        "a63000d88c3b4dd49d2a3339db693733": {
          "model_module": "@jupyter-widgets/base",
          "model_name": "LayoutModel",
          "state": {
            "_view_name": "LayoutView",
            "grid_template_rows": null,
            "right": null,
            "justify_content": null,
            "_view_module": "@jupyter-widgets/base",
            "overflow": null,
            "_model_module_version": "1.2.0",
            "_view_count": null,
            "flex_flow": null,
            "width": null,
            "min_width": null,
            "border": null,
            "align_items": null,
            "bottom": null,
            "_model_module": "@jupyter-widgets/base",
            "top": null,
            "grid_column": null,
            "overflow_y": null,
            "overflow_x": null,
            "grid_auto_flow": null,
            "grid_area": null,
            "grid_template_columns": null,
            "flex": null,
            "_model_name": "LayoutModel",
            "justify_items": null,
            "grid_row": null,
            "max_height": null,
            "align_content": null,
            "visibility": null,
            "align_self": null,
            "height": null,
            "min_height": null,
            "padding": null,
            "grid_auto_rows": null,
            "grid_gap": null,
            "max_width": null,
            "order": null,
            "_view_module_version": "1.2.0",
            "grid_template_areas": null,
            "object_position": null,
            "object_fit": null,
            "grid_auto_columns": null,
            "margin": null,
            "display": null,
            "left": null
          }
        }
      }
    }
  },
  "cells": [
    {
      "cell_type": "markdown",
      "metadata": {
        "id": "8SW1w8Zw5XPn"
      },
      "source": [
        "# Lab 2 Assignment"
      ]
    },
    {
      "cell_type": "markdown",
      "metadata": {
        "id": "1UD4FnMH5XPo"
      },
      "source": [
        "__Name:__"
      ]
    },
    {
      "cell_type": "markdown",
      "metadata": {
        "id": "JjKUH68m5XPp"
      },
      "source": [
        "In the assignment, you will analyze which factors are associated with the number of likes a Facebook post gets. The dataset is from https://archive.ics.uci.edu/ml/datasets/Facebook+metrics. All posts are from the page of a renowned cosmetics brand.\n",
        "\n",
        "The dependent variable is `like`."
      ]
    },
    {
      "cell_type": "code",
      "metadata": {
        "id": "Hlzm9eI85XPq"
      },
      "source": [
        "import pandas as pd\n",
        "import statsmodels.api as sm\n",
        "import numpy as np"
      ],
      "execution_count": 99,
      "outputs": []
    },
    {
      "cell_type": "code",
      "metadata": {
        "id": "yHmCrlrh5XPt"
      },
      "source": [
        "fb_like = pd.read_csv('http://fengmai.net/download/data/bia652/dataset_Facebook.csv', sep=\";\")\n",
        "# remove unneeded variables\n",
        "not_needed = ['Page total likes', 'Total Interactions']\n",
        "fb_like = fb_like.drop(not_needed, axis = 1)"
      ],
      "execution_count": 100,
      "outputs": []
    },
    {
      "cell_type": "code",
      "metadata": {
        "scrolled": true,
        "id": "AP4Wk01C5XPv",
        "outputId": "4cb31c0e-9003-42d8-9ef3-335692a7249b",
        "colab": {
          "base_uri": "https://localhost:8080/",
          "height": 357
        }
      },
      "source": [
        "fb_like.head(5)"
      ],
      "execution_count": 101,
      "outputs": [
        {
          "output_type": "execute_result",
          "data": {
            "text/html": [
              "<div>\n",
              "<style scoped>\n",
              "    .dataframe tbody tr th:only-of-type {\n",
              "        vertical-align: middle;\n",
              "    }\n",
              "\n",
              "    .dataframe tbody tr th {\n",
              "        vertical-align: top;\n",
              "    }\n",
              "\n",
              "    .dataframe thead th {\n",
              "        text-align: right;\n",
              "    }\n",
              "</style>\n",
              "<table border=\"1\" class=\"dataframe\">\n",
              "  <thead>\n",
              "    <tr style=\"text-align: right;\">\n",
              "      <th></th>\n",
              "      <th>Type</th>\n",
              "      <th>Category</th>\n",
              "      <th>Post Month</th>\n",
              "      <th>Post Weekday</th>\n",
              "      <th>Post Hour</th>\n",
              "      <th>Paid</th>\n",
              "      <th>Lifetime Post Total Reach</th>\n",
              "      <th>Lifetime Post Total Impressions</th>\n",
              "      <th>Lifetime Engaged Users</th>\n",
              "      <th>Lifetime Post Consumers</th>\n",
              "      <th>Lifetime Post Consumptions</th>\n",
              "      <th>Lifetime Post Impressions by people who have liked your Page</th>\n",
              "      <th>Lifetime Post reach by people who like your Page</th>\n",
              "      <th>Lifetime People who have liked your Page and engaged with your post</th>\n",
              "      <th>comment</th>\n",
              "      <th>like</th>\n",
              "      <th>share</th>\n",
              "    </tr>\n",
              "  </thead>\n",
              "  <tbody>\n",
              "    <tr>\n",
              "      <th>0</th>\n",
              "      <td>Photo</td>\n",
              "      <td>2</td>\n",
              "      <td>12</td>\n",
              "      <td>4</td>\n",
              "      <td>3</td>\n",
              "      <td>0.0</td>\n",
              "      <td>2752</td>\n",
              "      <td>5091</td>\n",
              "      <td>178</td>\n",
              "      <td>109</td>\n",
              "      <td>159</td>\n",
              "      <td>3078</td>\n",
              "      <td>1640</td>\n",
              "      <td>119</td>\n",
              "      <td>4</td>\n",
              "      <td>79.0</td>\n",
              "      <td>17.0</td>\n",
              "    </tr>\n",
              "    <tr>\n",
              "      <th>1</th>\n",
              "      <td>Status</td>\n",
              "      <td>2</td>\n",
              "      <td>12</td>\n",
              "      <td>3</td>\n",
              "      <td>10</td>\n",
              "      <td>0.0</td>\n",
              "      <td>10460</td>\n",
              "      <td>19057</td>\n",
              "      <td>1457</td>\n",
              "      <td>1361</td>\n",
              "      <td>1674</td>\n",
              "      <td>11710</td>\n",
              "      <td>6112</td>\n",
              "      <td>1108</td>\n",
              "      <td>5</td>\n",
              "      <td>130.0</td>\n",
              "      <td>29.0</td>\n",
              "    </tr>\n",
              "    <tr>\n",
              "      <th>2</th>\n",
              "      <td>Photo</td>\n",
              "      <td>3</td>\n",
              "      <td>12</td>\n",
              "      <td>3</td>\n",
              "      <td>3</td>\n",
              "      <td>0.0</td>\n",
              "      <td>2413</td>\n",
              "      <td>4373</td>\n",
              "      <td>177</td>\n",
              "      <td>113</td>\n",
              "      <td>154</td>\n",
              "      <td>2812</td>\n",
              "      <td>1503</td>\n",
              "      <td>132</td>\n",
              "      <td>0</td>\n",
              "      <td>66.0</td>\n",
              "      <td>14.0</td>\n",
              "    </tr>\n",
              "    <tr>\n",
              "      <th>3</th>\n",
              "      <td>Photo</td>\n",
              "      <td>2</td>\n",
              "      <td>12</td>\n",
              "      <td>2</td>\n",
              "      <td>10</td>\n",
              "      <td>1.0</td>\n",
              "      <td>50128</td>\n",
              "      <td>87991</td>\n",
              "      <td>2211</td>\n",
              "      <td>790</td>\n",
              "      <td>1119</td>\n",
              "      <td>61027</td>\n",
              "      <td>32048</td>\n",
              "      <td>1386</td>\n",
              "      <td>58</td>\n",
              "      <td>1572.0</td>\n",
              "      <td>147.0</td>\n",
              "    </tr>\n",
              "    <tr>\n",
              "      <th>4</th>\n",
              "      <td>Photo</td>\n",
              "      <td>2</td>\n",
              "      <td>12</td>\n",
              "      <td>2</td>\n",
              "      <td>3</td>\n",
              "      <td>0.0</td>\n",
              "      <td>7244</td>\n",
              "      <td>13594</td>\n",
              "      <td>671</td>\n",
              "      <td>410</td>\n",
              "      <td>580</td>\n",
              "      <td>6228</td>\n",
              "      <td>3200</td>\n",
              "      <td>396</td>\n",
              "      <td>19</td>\n",
              "      <td>325.0</td>\n",
              "      <td>49.0</td>\n",
              "    </tr>\n",
              "  </tbody>\n",
              "</table>\n",
              "</div>"
            ],
            "text/plain": [
              "     Type  Category  Post Month  ...  comment    like  share\n",
              "0   Photo         2          12  ...        4    79.0   17.0\n",
              "1  Status         2          12  ...        5   130.0   29.0\n",
              "2   Photo         3          12  ...        0    66.0   14.0\n",
              "3   Photo         2          12  ...       58  1572.0  147.0\n",
              "4   Photo         2          12  ...       19   325.0   49.0\n",
              "\n",
              "[5 rows x 17 columns]"
            ]
          },
          "metadata": {
            "tags": []
          },
          "execution_count": 101
        }
      ]
    },
    {
      "cell_type": "markdown",
      "metadata": {
        "id": "Lzqf3LHS5XPy"
      },
      "source": [
        "## Q1 - Modeling with categorical Xs"
      ]
    },
    {
      "cell_type": "markdown",
      "metadata": {
        "id": "Bj5NdnBJ5XPz"
      },
      "source": [
        "- Use [pd.get_dummies()](https://pandas.pydata.org/pandas-docs/stable/reference/api/pandas.get_dummies.html) to create dummy variables for the following variables: `Type`, `Category`, `Post Month`, `Post Weekday`, `Post Hour`. Make sure that `drop_firt=True` to avoid multicollinearity problem.\n",
        "- You may want to read [this post](https://stackoverflow.com/questions/24109779/running-get-dummies-on-several-dataframe-columns) to create dummies for multiple columns.\n",
        "- The origninal columns will be automatically dropped after you create the dummies. \n",
        "- You may want to check if any rows have missing variables and drop them accordingly (use [dropna](https://pandas.pydata.org/pandas-docs/stable/reference/api/pandas.DataFrame.dropna.html)). \n",
        "- Create a regression model that uses all the variables (other than like) as independent variables. You'll need to use `statsmodels` and not `sklearn`. Display the OLS Regression Results.  \n",
        "- No need to split the data to train-test sets for this exercise. "
      ]
    },
    {
      "cell_type": "code",
      "metadata": {
        "id": "5PTUdHfE5XPz"
      },
      "source": [
        "# Creating a dummy variables for Type, Category, Post Month, Post Weekday, Post Hour\n",
        "\n",
        "fb_like = pd.get_dummies(data = fb_like,columns=['Type','Category','Post Month', 'Post Weekday', 'Post Hour'], drop_first=True)"
      ],
      "execution_count": 102,
      "outputs": []
    },
    {
      "cell_type": "code",
      "metadata": {
        "id": "QeD68fsCH7J-",
        "outputId": "bfd12b76-99b7-40b4-c5a0-5d4c924d18ec",
        "colab": {
          "base_uri": "https://localhost:8080/",
          "height": 377
        }
      },
      "source": [
        "fb_like.head()"
      ],
      "execution_count": 103,
      "outputs": [
        {
          "output_type": "execute_result",
          "data": {
            "text/html": [
              "<div>\n",
              "<style scoped>\n",
              "    .dataframe tbody tr th:only-of-type {\n",
              "        vertical-align: middle;\n",
              "    }\n",
              "\n",
              "    .dataframe tbody tr th {\n",
              "        vertical-align: top;\n",
              "    }\n",
              "\n",
              "    .dataframe thead th {\n",
              "        text-align: right;\n",
              "    }\n",
              "</style>\n",
              "<table border=\"1\" class=\"dataframe\">\n",
              "  <thead>\n",
              "    <tr style=\"text-align: right;\">\n",
              "      <th></th>\n",
              "      <th>Paid</th>\n",
              "      <th>Lifetime Post Total Reach</th>\n",
              "      <th>Lifetime Post Total Impressions</th>\n",
              "      <th>Lifetime Engaged Users</th>\n",
              "      <th>Lifetime Post Consumers</th>\n",
              "      <th>Lifetime Post Consumptions</th>\n",
              "      <th>Lifetime Post Impressions by people who have liked your Page</th>\n",
              "      <th>Lifetime Post reach by people who like your Page</th>\n",
              "      <th>Lifetime People who have liked your Page and engaged with your post</th>\n",
              "      <th>comment</th>\n",
              "      <th>like</th>\n",
              "      <th>share</th>\n",
              "      <th>Type_Photo</th>\n",
              "      <th>Type_Status</th>\n",
              "      <th>Type_Video</th>\n",
              "      <th>Category_2</th>\n",
              "      <th>Category_3</th>\n",
              "      <th>Post Month_2</th>\n",
              "      <th>Post Month_3</th>\n",
              "      <th>Post Month_4</th>\n",
              "      <th>Post Month_5</th>\n",
              "      <th>Post Month_6</th>\n",
              "      <th>Post Month_7</th>\n",
              "      <th>Post Month_8</th>\n",
              "      <th>Post Month_9</th>\n",
              "      <th>Post Month_10</th>\n",
              "      <th>Post Month_11</th>\n",
              "      <th>Post Month_12</th>\n",
              "      <th>Post Weekday_2</th>\n",
              "      <th>Post Weekday_3</th>\n",
              "      <th>Post Weekday_4</th>\n",
              "      <th>Post Weekday_5</th>\n",
              "      <th>Post Weekday_6</th>\n",
              "      <th>Post Weekday_7</th>\n",
              "      <th>Post Hour_2</th>\n",
              "      <th>Post Hour_3</th>\n",
              "      <th>Post Hour_4</th>\n",
              "      <th>Post Hour_5</th>\n",
              "      <th>Post Hour_6</th>\n",
              "      <th>Post Hour_7</th>\n",
              "      <th>Post Hour_8</th>\n",
              "      <th>Post Hour_9</th>\n",
              "      <th>Post Hour_10</th>\n",
              "      <th>Post Hour_11</th>\n",
              "      <th>Post Hour_12</th>\n",
              "      <th>Post Hour_13</th>\n",
              "      <th>Post Hour_14</th>\n",
              "      <th>Post Hour_15</th>\n",
              "      <th>Post Hour_16</th>\n",
              "      <th>Post Hour_17</th>\n",
              "      <th>Post Hour_18</th>\n",
              "      <th>Post Hour_19</th>\n",
              "      <th>Post Hour_20</th>\n",
              "      <th>Post Hour_22</th>\n",
              "      <th>Post Hour_23</th>\n",
              "    </tr>\n",
              "  </thead>\n",
              "  <tbody>\n",
              "    <tr>\n",
              "      <th>0</th>\n",
              "      <td>0.0</td>\n",
              "      <td>2752</td>\n",
              "      <td>5091</td>\n",
              "      <td>178</td>\n",
              "      <td>109</td>\n",
              "      <td>159</td>\n",
              "      <td>3078</td>\n",
              "      <td>1640</td>\n",
              "      <td>119</td>\n",
              "      <td>4</td>\n",
              "      <td>79.0</td>\n",
              "      <td>17.0</td>\n",
              "      <td>1</td>\n",
              "      <td>0</td>\n",
              "      <td>0</td>\n",
              "      <td>1</td>\n",
              "      <td>0</td>\n",
              "      <td>0</td>\n",
              "      <td>0</td>\n",
              "      <td>0</td>\n",
              "      <td>0</td>\n",
              "      <td>0</td>\n",
              "      <td>0</td>\n",
              "      <td>0</td>\n",
              "      <td>0</td>\n",
              "      <td>0</td>\n",
              "      <td>0</td>\n",
              "      <td>1</td>\n",
              "      <td>0</td>\n",
              "      <td>0</td>\n",
              "      <td>1</td>\n",
              "      <td>0</td>\n",
              "      <td>0</td>\n",
              "      <td>0</td>\n",
              "      <td>0</td>\n",
              "      <td>1</td>\n",
              "      <td>0</td>\n",
              "      <td>0</td>\n",
              "      <td>0</td>\n",
              "      <td>0</td>\n",
              "      <td>0</td>\n",
              "      <td>0</td>\n",
              "      <td>0</td>\n",
              "      <td>0</td>\n",
              "      <td>0</td>\n",
              "      <td>0</td>\n",
              "      <td>0</td>\n",
              "      <td>0</td>\n",
              "      <td>0</td>\n",
              "      <td>0</td>\n",
              "      <td>0</td>\n",
              "      <td>0</td>\n",
              "      <td>0</td>\n",
              "      <td>0</td>\n",
              "      <td>0</td>\n",
              "    </tr>\n",
              "    <tr>\n",
              "      <th>1</th>\n",
              "      <td>0.0</td>\n",
              "      <td>10460</td>\n",
              "      <td>19057</td>\n",
              "      <td>1457</td>\n",
              "      <td>1361</td>\n",
              "      <td>1674</td>\n",
              "      <td>11710</td>\n",
              "      <td>6112</td>\n",
              "      <td>1108</td>\n",
              "      <td>5</td>\n",
              "      <td>130.0</td>\n",
              "      <td>29.0</td>\n",
              "      <td>0</td>\n",
              "      <td>1</td>\n",
              "      <td>0</td>\n",
              "      <td>1</td>\n",
              "      <td>0</td>\n",
              "      <td>0</td>\n",
              "      <td>0</td>\n",
              "      <td>0</td>\n",
              "      <td>0</td>\n",
              "      <td>0</td>\n",
              "      <td>0</td>\n",
              "      <td>0</td>\n",
              "      <td>0</td>\n",
              "      <td>0</td>\n",
              "      <td>0</td>\n",
              "      <td>1</td>\n",
              "      <td>0</td>\n",
              "      <td>1</td>\n",
              "      <td>0</td>\n",
              "      <td>0</td>\n",
              "      <td>0</td>\n",
              "      <td>0</td>\n",
              "      <td>0</td>\n",
              "      <td>0</td>\n",
              "      <td>0</td>\n",
              "      <td>0</td>\n",
              "      <td>0</td>\n",
              "      <td>0</td>\n",
              "      <td>0</td>\n",
              "      <td>0</td>\n",
              "      <td>1</td>\n",
              "      <td>0</td>\n",
              "      <td>0</td>\n",
              "      <td>0</td>\n",
              "      <td>0</td>\n",
              "      <td>0</td>\n",
              "      <td>0</td>\n",
              "      <td>0</td>\n",
              "      <td>0</td>\n",
              "      <td>0</td>\n",
              "      <td>0</td>\n",
              "      <td>0</td>\n",
              "      <td>0</td>\n",
              "    </tr>\n",
              "    <tr>\n",
              "      <th>2</th>\n",
              "      <td>0.0</td>\n",
              "      <td>2413</td>\n",
              "      <td>4373</td>\n",
              "      <td>177</td>\n",
              "      <td>113</td>\n",
              "      <td>154</td>\n",
              "      <td>2812</td>\n",
              "      <td>1503</td>\n",
              "      <td>132</td>\n",
              "      <td>0</td>\n",
              "      <td>66.0</td>\n",
              "      <td>14.0</td>\n",
              "      <td>1</td>\n",
              "      <td>0</td>\n",
              "      <td>0</td>\n",
              "      <td>0</td>\n",
              "      <td>1</td>\n",
              "      <td>0</td>\n",
              "      <td>0</td>\n",
              "      <td>0</td>\n",
              "      <td>0</td>\n",
              "      <td>0</td>\n",
              "      <td>0</td>\n",
              "      <td>0</td>\n",
              "      <td>0</td>\n",
              "      <td>0</td>\n",
              "      <td>0</td>\n",
              "      <td>1</td>\n",
              "      <td>0</td>\n",
              "      <td>1</td>\n",
              "      <td>0</td>\n",
              "      <td>0</td>\n",
              "      <td>0</td>\n",
              "      <td>0</td>\n",
              "      <td>0</td>\n",
              "      <td>1</td>\n",
              "      <td>0</td>\n",
              "      <td>0</td>\n",
              "      <td>0</td>\n",
              "      <td>0</td>\n",
              "      <td>0</td>\n",
              "      <td>0</td>\n",
              "      <td>0</td>\n",
              "      <td>0</td>\n",
              "      <td>0</td>\n",
              "      <td>0</td>\n",
              "      <td>0</td>\n",
              "      <td>0</td>\n",
              "      <td>0</td>\n",
              "      <td>0</td>\n",
              "      <td>0</td>\n",
              "      <td>0</td>\n",
              "      <td>0</td>\n",
              "      <td>0</td>\n",
              "      <td>0</td>\n",
              "    </tr>\n",
              "    <tr>\n",
              "      <th>3</th>\n",
              "      <td>1.0</td>\n",
              "      <td>50128</td>\n",
              "      <td>87991</td>\n",
              "      <td>2211</td>\n",
              "      <td>790</td>\n",
              "      <td>1119</td>\n",
              "      <td>61027</td>\n",
              "      <td>32048</td>\n",
              "      <td>1386</td>\n",
              "      <td>58</td>\n",
              "      <td>1572.0</td>\n",
              "      <td>147.0</td>\n",
              "      <td>1</td>\n",
              "      <td>0</td>\n",
              "      <td>0</td>\n",
              "      <td>1</td>\n",
              "      <td>0</td>\n",
              "      <td>0</td>\n",
              "      <td>0</td>\n",
              "      <td>0</td>\n",
              "      <td>0</td>\n",
              "      <td>0</td>\n",
              "      <td>0</td>\n",
              "      <td>0</td>\n",
              "      <td>0</td>\n",
              "      <td>0</td>\n",
              "      <td>0</td>\n",
              "      <td>1</td>\n",
              "      <td>1</td>\n",
              "      <td>0</td>\n",
              "      <td>0</td>\n",
              "      <td>0</td>\n",
              "      <td>0</td>\n",
              "      <td>0</td>\n",
              "      <td>0</td>\n",
              "      <td>0</td>\n",
              "      <td>0</td>\n",
              "      <td>0</td>\n",
              "      <td>0</td>\n",
              "      <td>0</td>\n",
              "      <td>0</td>\n",
              "      <td>0</td>\n",
              "      <td>1</td>\n",
              "      <td>0</td>\n",
              "      <td>0</td>\n",
              "      <td>0</td>\n",
              "      <td>0</td>\n",
              "      <td>0</td>\n",
              "      <td>0</td>\n",
              "      <td>0</td>\n",
              "      <td>0</td>\n",
              "      <td>0</td>\n",
              "      <td>0</td>\n",
              "      <td>0</td>\n",
              "      <td>0</td>\n",
              "    </tr>\n",
              "    <tr>\n",
              "      <th>4</th>\n",
              "      <td>0.0</td>\n",
              "      <td>7244</td>\n",
              "      <td>13594</td>\n",
              "      <td>671</td>\n",
              "      <td>410</td>\n",
              "      <td>580</td>\n",
              "      <td>6228</td>\n",
              "      <td>3200</td>\n",
              "      <td>396</td>\n",
              "      <td>19</td>\n",
              "      <td>325.0</td>\n",
              "      <td>49.0</td>\n",
              "      <td>1</td>\n",
              "      <td>0</td>\n",
              "      <td>0</td>\n",
              "      <td>1</td>\n",
              "      <td>0</td>\n",
              "      <td>0</td>\n",
              "      <td>0</td>\n",
              "      <td>0</td>\n",
              "      <td>0</td>\n",
              "      <td>0</td>\n",
              "      <td>0</td>\n",
              "      <td>0</td>\n",
              "      <td>0</td>\n",
              "      <td>0</td>\n",
              "      <td>0</td>\n",
              "      <td>1</td>\n",
              "      <td>1</td>\n",
              "      <td>0</td>\n",
              "      <td>0</td>\n",
              "      <td>0</td>\n",
              "      <td>0</td>\n",
              "      <td>0</td>\n",
              "      <td>0</td>\n",
              "      <td>1</td>\n",
              "      <td>0</td>\n",
              "      <td>0</td>\n",
              "      <td>0</td>\n",
              "      <td>0</td>\n",
              "      <td>0</td>\n",
              "      <td>0</td>\n",
              "      <td>0</td>\n",
              "      <td>0</td>\n",
              "      <td>0</td>\n",
              "      <td>0</td>\n",
              "      <td>0</td>\n",
              "      <td>0</td>\n",
              "      <td>0</td>\n",
              "      <td>0</td>\n",
              "      <td>0</td>\n",
              "      <td>0</td>\n",
              "      <td>0</td>\n",
              "      <td>0</td>\n",
              "      <td>0</td>\n",
              "    </tr>\n",
              "  </tbody>\n",
              "</table>\n",
              "</div>"
            ],
            "text/plain": [
              "   Paid  Lifetime Post Total Reach  ...  Post Hour_22  Post Hour_23\n",
              "0   0.0                       2752  ...             0             0\n",
              "1   0.0                      10460  ...             0             0\n",
              "2   0.0                       2413  ...             0             0\n",
              "3   1.0                      50128  ...             0             0\n",
              "4   0.0                       7244  ...             0             0\n",
              "\n",
              "[5 rows x 55 columns]"
            ]
          },
          "metadata": {
            "tags": []
          },
          "execution_count": 103
        }
      ]
    },
    {
      "cell_type": "code",
      "metadata": {
        "id": "KOmcK1ibGhzw",
        "outputId": "8162dc01-b0d9-4fa0-e710-fb91e37bbdb3",
        "colab": {
          "base_uri": "https://localhost:8080/"
        }
      },
      "source": [
        "# Checking for NULL values\n",
        "\n",
        "fb_like.isnull().sum().sum()"
      ],
      "execution_count": 104,
      "outputs": [
        {
          "output_type": "execute_result",
          "data": {
            "text/plain": [
              "6"
            ]
          },
          "metadata": {
            "tags": []
          },
          "execution_count": 104
        }
      ]
    },
    {
      "cell_type": "code",
      "metadata": {
        "id": "vWwKKiAIHLjM"
      },
      "source": [
        "# drop NULL values\n",
        "fb_like.dropna(inplace=True)"
      ],
      "execution_count": 105,
      "outputs": []
    },
    {
      "cell_type": "code",
      "metadata": {
        "id": "7OdnA8tGHZ35",
        "outputId": "b7ee2cf5-f224-435d-fd32-7c84421bb0d8",
        "colab": {
          "base_uri": "https://localhost:8080/"
        }
      },
      "source": [
        "# Making sure all NULL values are droped\n",
        "fb_like.isnull().sum().sum()"
      ],
      "execution_count": 106,
      "outputs": [
        {
          "output_type": "execute_result",
          "data": {
            "text/plain": [
              "0"
            ]
          },
          "metadata": {
            "tags": []
          },
          "execution_count": 106
        }
      ]
    },
    {
      "cell_type": "code",
      "metadata": {
        "id": "ZsI-FhxoHbR5",
        "outputId": "e2cdddba-b3f5-4a77-80ab-b9fcc51b8876",
        "colab": {
          "base_uri": "https://localhost:8080/"
        }
      },
      "source": [
        "fb_like.shape"
      ],
      "execution_count": 107,
      "outputs": [
        {
          "output_type": "execute_result",
          "data": {
            "text/plain": [
              "(495, 55)"
            ]
          },
          "metadata": {
            "tags": []
          },
          "execution_count": 107
        }
      ]
    },
    {
      "cell_type": "code",
      "metadata": {
        "id": "-w7PxOTUIL8y"
      },
      "source": [
        "# Separating independent and dependent variables\n",
        "\n",
        "X = fb_like.loc[:,fb_like.columns != 'like']\n",
        "X = sm.add_constant(X)\n",
        "Y = fb_like['like']"
      ],
      "execution_count": 108,
      "outputs": []
    },
    {
      "cell_type": "code",
      "metadata": {
        "id": "K46QO81-K5Qg",
        "outputId": "835590e8-6de9-4cc8-a1a2-66fa1f95c75c",
        "colab": {
          "base_uri": "https://localhost:8080/"
        }
      },
      "source": [
        "X.shape"
      ],
      "execution_count": 109,
      "outputs": [
        {
          "output_type": "execute_result",
          "data": {
            "text/plain": [
              "(495, 55)"
            ]
          },
          "metadata": {
            "tags": []
          },
          "execution_count": 109
        }
      ]
    },
    {
      "cell_type": "code",
      "metadata": {
        "id": "F4-90BVvLHTX",
        "outputId": "328d7eb9-3f95-44c3-d0c6-829d708f4175",
        "colab": {
          "base_uri": "https://localhost:8080/"
        }
      },
      "source": [
        "Y.head()"
      ],
      "execution_count": 110,
      "outputs": [
        {
          "output_type": "execute_result",
          "data": {
            "text/plain": [
              "0      79.0\n",
              "1     130.0\n",
              "2      66.0\n",
              "3    1572.0\n",
              "4     325.0\n",
              "Name: like, dtype: float64"
            ]
          },
          "metadata": {
            "tags": []
          },
          "execution_count": 110
        }
      ]
    },
    {
      "cell_type": "code",
      "metadata": {
        "id": "fJzJu1hTLLOf"
      },
      "source": [
        "# Applting OLS using statsmodes\n",
        "\n",
        "OLS_model = sm.OLS(Y,X) \n",
        "OLS_results = OLS_model.fit()"
      ],
      "execution_count": 111,
      "outputs": []
    },
    {
      "cell_type": "code",
      "metadata": {
        "id": "jknz2euRMbnv",
        "outputId": "9972a2cd-d047-4f8f-8190-3855d23e1b29",
        "colab": {
          "base_uri": "https://localhost:8080/",
          "height": 1000
        }
      },
      "source": [
        "# Displaying results\n",
        "OLS_results.summary()"
      ],
      "execution_count": 112,
      "outputs": [
        {
          "output_type": "execute_result",
          "data": {
            "text/html": [
              "<table class=\"simpletable\">\n",
              "<caption>OLS Regression Results</caption>\n",
              "<tr>\n",
              "  <th>Dep. Variable:</th>          <td>like</td>       <th>  R-squared:         </th> <td>   0.991</td>\n",
              "</tr>\n",
              "<tr>\n",
              "  <th>Model:</th>                   <td>OLS</td>       <th>  Adj. R-squared:    </th> <td>   0.990</td>\n",
              "</tr>\n",
              "<tr>\n",
              "  <th>Method:</th>             <td>Least Squares</td>  <th>  F-statistic:       </th> <td>   937.5</td>\n",
              "</tr>\n",
              "<tr>\n",
              "  <th>Date:</th>             <td>Sun, 15 Nov 2020</td> <th>  Prob (F-statistic):</th>  <td>  0.00</td> \n",
              "</tr>\n",
              "<tr>\n",
              "  <th>Time:</th>                 <td>23:13:34</td>     <th>  Log-Likelihood:    </th> <td> -2387.3</td>\n",
              "</tr>\n",
              "<tr>\n",
              "  <th>No. Observations:</th>      <td>   495</td>      <th>  AIC:               </th> <td>   4885.</td>\n",
              "</tr>\n",
              "<tr>\n",
              "  <th>Df Residuals:</th>          <td>   440</td>      <th>  BIC:               </th> <td>   5116.</td>\n",
              "</tr>\n",
              "<tr>\n",
              "  <th>Df Model:</th>              <td>    54</td>      <th>                     </th>     <td> </td>   \n",
              "</tr>\n",
              "<tr>\n",
              "  <th>Covariance Type:</th>      <td>nonrobust</td>    <th>                     </th>     <td> </td>   \n",
              "</tr>\n",
              "</table>\n",
              "<table class=\"simpletable\">\n",
              "<tr>\n",
              "                                   <td></td>                                      <th>coef</th>     <th>std err</th>      <th>t</th>      <th>P>|t|</th>  <th>[0.025</th>    <th>0.975]</th>  \n",
              "</tr>\n",
              "<tr>\n",
              "  <th>const</th>                                                               <td>   -5.9270</td> <td>   19.916</td> <td>   -0.298</td> <td> 0.766</td> <td>  -45.070</td> <td>   33.216</td>\n",
              "</tr>\n",
              "<tr>\n",
              "  <th>Paid</th>                                                                <td>    0.2966</td> <td>    3.424</td> <td>    0.087</td> <td> 0.931</td> <td>   -6.434</td> <td>    7.027</td>\n",
              "</tr>\n",
              "<tr>\n",
              "  <th>Lifetime Post Total Reach</th>                                           <td>   -0.0005</td> <td>    0.000</td> <td>   -1.492</td> <td> 0.136</td> <td>   -0.001</td> <td>    0.000</td>\n",
              "</tr>\n",
              "<tr>\n",
              "  <th>Lifetime Post Total Impressions</th>                                     <td> 6.861e-05</td> <td>    0.000</td> <td>    0.618</td> <td> 0.537</td> <td>   -0.000</td> <td>    0.000</td>\n",
              "</tr>\n",
              "<tr>\n",
              "  <th>Lifetime Engaged Users</th>                                              <td>    0.9812</td> <td>    0.016</td> <td>   62.388</td> <td> 0.000</td> <td>    0.950</td> <td>    1.012</td>\n",
              "</tr>\n",
              "<tr>\n",
              "  <th>Lifetime Post Consumers</th>                                             <td>   -0.9818</td> <td>    0.015</td> <td>  -64.367</td> <td> 0.000</td> <td>   -1.012</td> <td>   -0.952</td>\n",
              "</tr>\n",
              "<tr>\n",
              "  <th>Lifetime Post Consumptions</th>                                          <td>    0.0048</td> <td>    0.001</td> <td>    4.185</td> <td> 0.000</td> <td>    0.003</td> <td>    0.007</td>\n",
              "</tr>\n",
              "<tr>\n",
              "  <th>Lifetime Post Impressions by people who have liked your Page</th>        <td>-6.614e-05</td> <td>    0.000</td> <td>   -0.556</td> <td> 0.579</td> <td>   -0.000</td> <td>    0.000</td>\n",
              "</tr>\n",
              "<tr>\n",
              "  <th>Lifetime Post reach by people who like your Page</th>                    <td>    0.0010</td> <td>    0.001</td> <td>    1.576</td> <td> 0.116</td> <td>   -0.000</td> <td>    0.002</td>\n",
              "</tr>\n",
              "<tr>\n",
              "  <th>Lifetime People who have liked your Page and engaged with your post</th> <td>    0.0341</td> <td>    0.007</td> <td>    4.762</td> <td> 0.000</td> <td>    0.020</td> <td>    0.048</td>\n",
              "</tr>\n",
              "<tr>\n",
              "  <th>comment</th>                                                             <td>    0.8360</td> <td>    0.152</td> <td>    5.488</td> <td> 0.000</td> <td>    0.537</td> <td>    1.135</td>\n",
              "</tr>\n",
              "<tr>\n",
              "  <th>share</th>                                                               <td>    1.1576</td> <td>    0.095</td> <td>   12.178</td> <td> 0.000</td> <td>    0.971</td> <td>    1.344</td>\n",
              "</tr>\n",
              "<tr>\n",
              "  <th>Type_Photo</th>                                                          <td>  -10.9487</td> <td>    7.716</td> <td>   -1.419</td> <td> 0.157</td> <td>  -26.113</td> <td>    4.215</td>\n",
              "</tr>\n",
              "<tr>\n",
              "  <th>Type_Status</th>                                                         <td>  -37.9881</td> <td>   11.181</td> <td>   -3.398</td> <td> 0.001</td> <td>  -59.963</td> <td>  -16.013</td>\n",
              "</tr>\n",
              "<tr>\n",
              "  <th>Type_Video</th>                                                          <td>    3.6095</td> <td>   15.242</td> <td>    0.237</td> <td> 0.813</td> <td>  -26.346</td> <td>   33.565</td>\n",
              "</tr>\n",
              "<tr>\n",
              "  <th>Category_2</th>                                                          <td>   10.4000</td> <td>    4.783</td> <td>    2.175</td> <td> 0.030</td> <td>    1.000</td> <td>   19.800</td>\n",
              "</tr>\n",
              "<tr>\n",
              "  <th>Category_3</th>                                                          <td>   11.3567</td> <td>    4.333</td> <td>    2.621</td> <td> 0.009</td> <td>    2.841</td> <td>   19.872</td>\n",
              "</tr>\n",
              "<tr>\n",
              "  <th>Post Month_2</th>                                                        <td>   13.4233</td> <td>   10.214</td> <td>    1.314</td> <td> 0.189</td> <td>   -6.650</td> <td>   33.497</td>\n",
              "</tr>\n",
              "<tr>\n",
              "  <th>Post Month_3</th>                                                        <td>   10.0742</td> <td>   10.468</td> <td>    0.962</td> <td> 0.336</td> <td>  -10.500</td> <td>   30.648</td>\n",
              "</tr>\n",
              "<tr>\n",
              "  <th>Post Month_4</th>                                                        <td>   10.9776</td> <td>    8.696</td> <td>    1.262</td> <td> 0.207</td> <td>   -6.112</td> <td>   28.067</td>\n",
              "</tr>\n",
              "<tr>\n",
              "  <th>Post Month_5</th>                                                        <td>   13.7234</td> <td>    8.983</td> <td>    1.528</td> <td> 0.127</td> <td>   -3.931</td> <td>   31.378</td>\n",
              "</tr>\n",
              "<tr>\n",
              "  <th>Post Month_6</th>                                                        <td>    1.5441</td> <td>    8.727</td> <td>    0.177</td> <td> 0.860</td> <td>  -15.608</td> <td>   18.697</td>\n",
              "</tr>\n",
              "<tr>\n",
              "  <th>Post Month_7</th>                                                        <td>    6.0394</td> <td>    8.810</td> <td>    0.686</td> <td> 0.493</td> <td>  -11.275</td> <td>   23.354</td>\n",
              "</tr>\n",
              "<tr>\n",
              "  <th>Post Month_8</th>                                                        <td>   10.1974</td> <td>    9.440</td> <td>    1.080</td> <td> 0.281</td> <td>   -8.355</td> <td>   28.750</td>\n",
              "</tr>\n",
              "<tr>\n",
              "  <th>Post Month_9</th>                                                        <td>   13.9496</td> <td>    9.386</td> <td>    1.486</td> <td> 0.138</td> <td>   -4.498</td> <td>   32.397</td>\n",
              "</tr>\n",
              "<tr>\n",
              "  <th>Post Month_10</th>                                                       <td>   17.5328</td> <td>    8.761</td> <td>    2.001</td> <td> 0.046</td> <td>    0.314</td> <td>   34.752</td>\n",
              "</tr>\n",
              "<tr>\n",
              "  <th>Post Month_11</th>                                                       <td>   -2.6575</td> <td>    9.380</td> <td>   -0.283</td> <td> 0.777</td> <td>  -21.092</td> <td>   15.777</td>\n",
              "</tr>\n",
              "<tr>\n",
              "  <th>Post Month_12</th>                                                       <td>  -10.6648</td> <td>    9.053</td> <td>   -1.178</td> <td> 0.239</td> <td>  -28.458</td> <td>    7.128</td>\n",
              "</tr>\n",
              "<tr>\n",
              "  <th>Post Weekday_2</th>                                                      <td>   -1.6845</td> <td>    5.880</td> <td>   -0.286</td> <td> 0.775</td> <td>  -13.240</td> <td>    9.871</td>\n",
              "</tr>\n",
              "<tr>\n",
              "  <th>Post Weekday_3</th>                                                      <td>    2.4969</td> <td>    5.925</td> <td>    0.421</td> <td> 0.674</td> <td>   -9.149</td> <td>   14.143</td>\n",
              "</tr>\n",
              "<tr>\n",
              "  <th>Post Weekday_4</th>                                                      <td>    4.9301</td> <td>    5.733</td> <td>    0.860</td> <td> 0.390</td> <td>   -6.338</td> <td>   16.198</td>\n",
              "</tr>\n",
              "<tr>\n",
              "  <th>Post Weekday_5</th>                                                      <td>   -3.1533</td> <td>    5.826</td> <td>   -0.541</td> <td> 0.589</td> <td>  -14.603</td> <td>    8.297</td>\n",
              "</tr>\n",
              "<tr>\n",
              "  <th>Post Weekday_6</th>                                                      <td>   -2.8285</td> <td>    5.613</td> <td>   -0.504</td> <td> 0.615</td> <td>  -13.859</td> <td>    8.203</td>\n",
              "</tr>\n",
              "<tr>\n",
              "  <th>Post Weekday_7</th>                                                      <td>   -4.2242</td> <td>    5.471</td> <td>   -0.772</td> <td> 0.440</td> <td>  -14.977</td> <td>    6.528</td>\n",
              "</tr>\n",
              "<tr>\n",
              "  <th>Post Hour_2</th>                                                         <td>    1.6236</td> <td>   17.314</td> <td>    0.094</td> <td> 0.925</td> <td>  -32.405</td> <td>   35.652</td>\n",
              "</tr>\n",
              "<tr>\n",
              "  <th>Post Hour_3</th>                                                         <td>   -1.4974</td> <td>   16.691</td> <td>   -0.090</td> <td> 0.929</td> <td>  -34.302</td> <td>   31.307</td>\n",
              "</tr>\n",
              "<tr>\n",
              "  <th>Post Hour_4</th>                                                         <td>    2.6211</td> <td>   17.322</td> <td>    0.151</td> <td> 0.880</td> <td>  -31.422</td> <td>   36.664</td>\n",
              "</tr>\n",
              "<tr>\n",
              "  <th>Post Hour_5</th>                                                         <td>  -12.9369</td> <td>   18.719</td> <td>   -0.691</td> <td> 0.490</td> <td>  -49.727</td> <td>   23.853</td>\n",
              "</tr>\n",
              "<tr>\n",
              "  <th>Post Hour_6</th>                                                         <td>   13.3447</td> <td>   18.494</td> <td>    0.722</td> <td> 0.471</td> <td>  -23.003</td> <td>   49.692</td>\n",
              "</tr>\n",
              "<tr>\n",
              "  <th>Post Hour_7</th>                                                         <td>   -3.8571</td> <td>   18.708</td> <td>   -0.206</td> <td> 0.837</td> <td>  -40.626</td> <td>   32.911</td>\n",
              "</tr>\n",
              "<tr>\n",
              "  <th>Post Hour_8</th>                                                         <td>   -0.4901</td> <td>   18.936</td> <td>   -0.026</td> <td> 0.979</td> <td>  -37.707</td> <td>   36.727</td>\n",
              "</tr>\n",
              "<tr>\n",
              "  <th>Post Hour_9</th>                                                         <td>   -6.5012</td> <td>   17.461</td> <td>   -0.372</td> <td> 0.710</td> <td>  -40.819</td> <td>   27.817</td>\n",
              "</tr>\n",
              "<tr>\n",
              "  <th>Post Hour_10</th>                                                        <td>   -3.8933</td> <td>   16.823</td> <td>   -0.231</td> <td> 0.817</td> <td>  -36.957</td> <td>   29.170</td>\n",
              "</tr>\n",
              "<tr>\n",
              "  <th>Post Hour_11</th>                                                        <td>    0.5027</td> <td>   17.075</td> <td>    0.029</td> <td> 0.977</td> <td>  -33.057</td> <td>   34.062</td>\n",
              "</tr>\n",
              "<tr>\n",
              "  <th>Post Hour_12</th>                                                        <td>   -7.8919</td> <td>   17.536</td> <td>   -0.450</td> <td> 0.653</td> <td>  -42.357</td> <td>   26.573</td>\n",
              "</tr>\n",
              "<tr>\n",
              "  <th>Post Hour_13</th>                                                        <td>   -0.0621</td> <td>   17.029</td> <td>   -0.004</td> <td> 0.997</td> <td>  -33.530</td> <td>   33.406</td>\n",
              "</tr>\n",
              "<tr>\n",
              "  <th>Post Hour_14</th>                                                        <td>   -0.6347</td> <td>   18.885</td> <td>   -0.034</td> <td> 0.973</td> <td>  -37.751</td> <td>   36.481</td>\n",
              "</tr>\n",
              "<tr>\n",
              "  <th>Post Hour_15</th>                                                        <td>    1.6032</td> <td>   22.089</td> <td>    0.073</td> <td> 0.942</td> <td>  -41.811</td> <td>   45.017</td>\n",
              "</tr>\n",
              "<tr>\n",
              "  <th>Post Hour_16</th>                                                        <td>   -5.9786</td> <td>   37.052</td> <td>   -0.161</td> <td> 0.872</td> <td>  -78.799</td> <td>   66.842</td>\n",
              "</tr>\n",
              "<tr>\n",
              "  <th>Post Hour_17</th>                                                        <td>   33.6910</td> <td>   26.489</td> <td>    1.272</td> <td> 0.204</td> <td>  -18.370</td> <td>   85.753</td>\n",
              "</tr>\n",
              "<tr>\n",
              "  <th>Post Hour_18</th>                                                        <td>    1.2307</td> <td>   26.351</td> <td>    0.047</td> <td> 0.963</td> <td>  -50.558</td> <td>   53.019</td>\n",
              "</tr>\n",
              "<tr>\n",
              "  <th>Post Hour_19</th>                                                        <td>    0.3705</td> <td>   36.973</td> <td>    0.010</td> <td> 0.992</td> <td>  -72.296</td> <td>   73.037</td>\n",
              "</tr>\n",
              "<tr>\n",
              "  <th>Post Hour_20</th>                                                        <td>   29.9103</td> <td>   36.483</td> <td>    0.820</td> <td> 0.413</td> <td>  -41.792</td> <td>  101.613</td>\n",
              "</tr>\n",
              "<tr>\n",
              "  <th>Post Hour_22</th>                                                        <td>   -0.7754</td> <td>   36.664</td> <td>   -0.021</td> <td> 0.983</td> <td>  -72.834</td> <td>   71.283</td>\n",
              "</tr>\n",
              "<tr>\n",
              "  <th>Post Hour_23</th>                                                        <td>    3.6164</td> <td>   36.280</td> <td>    0.100</td> <td> 0.921</td> <td>  -67.688</td> <td>   74.921</td>\n",
              "</tr>\n",
              "</table>\n",
              "<table class=\"simpletable\">\n",
              "<tr>\n",
              "  <th>Omnibus:</th>       <td>370.229</td> <th>  Durbin-Watson:     </th> <td>   2.000</td> \n",
              "</tr>\n",
              "<tr>\n",
              "  <th>Prob(Omnibus):</th> <td> 0.000</td>  <th>  Jarque-Bera (JB):  </th> <td>19986.751</td>\n",
              "</tr>\n",
              "<tr>\n",
              "  <th>Skew:</th>          <td> 2.653</td>  <th>  Prob(JB):          </th> <td>    0.00</td> \n",
              "</tr>\n",
              "<tr>\n",
              "  <th>Kurtosis:</th>      <td>33.674</td>  <th>  Cond. No.          </th> <td>5.66e+06</td> \n",
              "</tr>\n",
              "</table><br/><br/>Warnings:<br/>[1] Standard Errors assume that the covariance matrix of the errors is correctly specified.<br/>[2] The condition number is large, 5.66e+06. This might indicate that there are<br/>strong multicollinearity or other numerical problems."
            ],
            "text/plain": [
              "<class 'statsmodels.iolib.summary.Summary'>\n",
              "\"\"\"\n",
              "                            OLS Regression Results                            \n",
              "==============================================================================\n",
              "Dep. Variable:                   like   R-squared:                       0.991\n",
              "Model:                            OLS   Adj. R-squared:                  0.990\n",
              "Method:                 Least Squares   F-statistic:                     937.5\n",
              "Date:                Sun, 15 Nov 2020   Prob (F-statistic):               0.00\n",
              "Time:                        23:13:34   Log-Likelihood:                -2387.3\n",
              "No. Observations:                 495   AIC:                             4885.\n",
              "Df Residuals:                     440   BIC:                             5116.\n",
              "Df Model:                          54                                         \n",
              "Covariance Type:            nonrobust                                         \n",
              "=======================================================================================================================================\n",
              "                                                                          coef    std err          t      P>|t|      [0.025      0.975]\n",
              "---------------------------------------------------------------------------------------------------------------------------------------\n",
              "const                                                                  -5.9270     19.916     -0.298      0.766     -45.070      33.216\n",
              "Paid                                                                    0.2966      3.424      0.087      0.931      -6.434       7.027\n",
              "Lifetime Post Total Reach                                              -0.0005      0.000     -1.492      0.136      -0.001       0.000\n",
              "Lifetime Post Total Impressions                                      6.861e-05      0.000      0.618      0.537      -0.000       0.000\n",
              "Lifetime Engaged Users                                                  0.9812      0.016     62.388      0.000       0.950       1.012\n",
              "Lifetime Post Consumers                                                -0.9818      0.015    -64.367      0.000      -1.012      -0.952\n",
              "Lifetime Post Consumptions                                              0.0048      0.001      4.185      0.000       0.003       0.007\n",
              "Lifetime Post Impressions by people who have liked your Page        -6.614e-05      0.000     -0.556      0.579      -0.000       0.000\n",
              "Lifetime Post reach by people who like your Page                        0.0010      0.001      1.576      0.116      -0.000       0.002\n",
              "Lifetime People who have liked your Page and engaged with your post     0.0341      0.007      4.762      0.000       0.020       0.048\n",
              "comment                                                                 0.8360      0.152      5.488      0.000       0.537       1.135\n",
              "share                                                                   1.1576      0.095     12.178      0.000       0.971       1.344\n",
              "Type_Photo                                                            -10.9487      7.716     -1.419      0.157     -26.113       4.215\n",
              "Type_Status                                                           -37.9881     11.181     -3.398      0.001     -59.963     -16.013\n",
              "Type_Video                                                              3.6095     15.242      0.237      0.813     -26.346      33.565\n",
              "Category_2                                                             10.4000      4.783      2.175      0.030       1.000      19.800\n",
              "Category_3                                                             11.3567      4.333      2.621      0.009       2.841      19.872\n",
              "Post Month_2                                                           13.4233     10.214      1.314      0.189      -6.650      33.497\n",
              "Post Month_3                                                           10.0742     10.468      0.962      0.336     -10.500      30.648\n",
              "Post Month_4                                                           10.9776      8.696      1.262      0.207      -6.112      28.067\n",
              "Post Month_5                                                           13.7234      8.983      1.528      0.127      -3.931      31.378\n",
              "Post Month_6                                                            1.5441      8.727      0.177      0.860     -15.608      18.697\n",
              "Post Month_7                                                            6.0394      8.810      0.686      0.493     -11.275      23.354\n",
              "Post Month_8                                                           10.1974      9.440      1.080      0.281      -8.355      28.750\n",
              "Post Month_9                                                           13.9496      9.386      1.486      0.138      -4.498      32.397\n",
              "Post Month_10                                                          17.5328      8.761      2.001      0.046       0.314      34.752\n",
              "Post Month_11                                                          -2.6575      9.380     -0.283      0.777     -21.092      15.777\n",
              "Post Month_12                                                         -10.6648      9.053     -1.178      0.239     -28.458       7.128\n",
              "Post Weekday_2                                                         -1.6845      5.880     -0.286      0.775     -13.240       9.871\n",
              "Post Weekday_3                                                          2.4969      5.925      0.421      0.674      -9.149      14.143\n",
              "Post Weekday_4                                                          4.9301      5.733      0.860      0.390      -6.338      16.198\n",
              "Post Weekday_5                                                         -3.1533      5.826     -0.541      0.589     -14.603       8.297\n",
              "Post Weekday_6                                                         -2.8285      5.613     -0.504      0.615     -13.859       8.203\n",
              "Post Weekday_7                                                         -4.2242      5.471     -0.772      0.440     -14.977       6.528\n",
              "Post Hour_2                                                             1.6236     17.314      0.094      0.925     -32.405      35.652\n",
              "Post Hour_3                                                            -1.4974     16.691     -0.090      0.929     -34.302      31.307\n",
              "Post Hour_4                                                             2.6211     17.322      0.151      0.880     -31.422      36.664\n",
              "Post Hour_5                                                           -12.9369     18.719     -0.691      0.490     -49.727      23.853\n",
              "Post Hour_6                                                            13.3447     18.494      0.722      0.471     -23.003      49.692\n",
              "Post Hour_7                                                            -3.8571     18.708     -0.206      0.837     -40.626      32.911\n",
              "Post Hour_8                                                            -0.4901     18.936     -0.026      0.979     -37.707      36.727\n",
              "Post Hour_9                                                            -6.5012     17.461     -0.372      0.710     -40.819      27.817\n",
              "Post Hour_10                                                           -3.8933     16.823     -0.231      0.817     -36.957      29.170\n",
              "Post Hour_11                                                            0.5027     17.075      0.029      0.977     -33.057      34.062\n",
              "Post Hour_12                                                           -7.8919     17.536     -0.450      0.653     -42.357      26.573\n",
              "Post Hour_13                                                           -0.0621     17.029     -0.004      0.997     -33.530      33.406\n",
              "Post Hour_14                                                           -0.6347     18.885     -0.034      0.973     -37.751      36.481\n",
              "Post Hour_15                                                            1.6032     22.089      0.073      0.942     -41.811      45.017\n",
              "Post Hour_16                                                           -5.9786     37.052     -0.161      0.872     -78.799      66.842\n",
              "Post Hour_17                                                           33.6910     26.489      1.272      0.204     -18.370      85.753\n",
              "Post Hour_18                                                            1.2307     26.351      0.047      0.963     -50.558      53.019\n",
              "Post Hour_19                                                            0.3705     36.973      0.010      0.992     -72.296      73.037\n",
              "Post Hour_20                                                           29.9103     36.483      0.820      0.413     -41.792     101.613\n",
              "Post Hour_22                                                           -0.7754     36.664     -0.021      0.983     -72.834      71.283\n",
              "Post Hour_23                                                            3.6164     36.280      0.100      0.921     -67.688      74.921\n",
              "==============================================================================\n",
              "Omnibus:                      370.229   Durbin-Watson:                   2.000\n",
              "Prob(Omnibus):                  0.000   Jarque-Bera (JB):            19986.751\n",
              "Skew:                           2.653   Prob(JB):                         0.00\n",
              "Kurtosis:                      33.674   Cond. No.                     5.66e+06\n",
              "==============================================================================\n",
              "\n",
              "Warnings:\n",
              "[1] Standard Errors assume that the covariance matrix of the errors is correctly specified.\n",
              "[2] The condition number is large, 5.66e+06. This might indicate that there are\n",
              "strong multicollinearity or other numerical problems.\n",
              "\"\"\""
            ]
          },
          "metadata": {
            "tags": []
          },
          "execution_count": 112
        }
      ]
    },
    {
      "cell_type": "markdown",
      "metadata": {
        "id": "m9UvGxcB5XP1"
      },
      "source": [
        "# Q2 Bootstrap confidence interval"
      ]
    },
    {
      "cell_type": "markdown",
      "metadata": {
        "id": "FROw7SZK5XP2"
      },
      "source": [
        "Your tasks is to use the boostrap method to construct a 95% CI for the coefficients for **comment** and **share** using the same model as in Q1. Do you get similar CI to Q1? Why or why not?"
      ]
    },
    {
      "cell_type": "code",
      "metadata": {
        "id": "Vz6pEsqnlUwM"
      },
      "source": [
        "from tqdm.auto import tqdm\n",
        "import statsmodels.formula.api as smf"
      ],
      "execution_count": 113,
      "outputs": []
    },
    {
      "cell_type": "code",
      "metadata": {
        "id": "m5aSM9P75XP4",
        "outputId": "7c9104ac-44ec-4dab-b004-d94838fe1d45",
        "colab": {
          "base_uri": "https://localhost:8080/",
          "height": 100,
          "referenced_widgets": [
            "b0a25198c63f41fda31d9951c78ace79",
            "66d656128b4c4d67ab3c741353baf8b4",
            "a9063da5bdc247f5ad8de91b68f7f51a",
            "61ca496d55b049a1b8ffde6de2bc2860",
            "7b53b31a72ab4fcbace2adb8a59d67f2",
            "8acd8ee6e14b4a5281f368cfa305bf75",
            "83fd474f90f34bdea579bf6a1da5da2e",
            "a63000d88c3b4dd49d2a3339db693733"
          ]
        }
      },
      "source": [
        "bootstrapped_ests = []\n",
        "for i in tqdm(range(5000)):\n",
        "    # YOUR CODE HERE \n",
        "    fb_like_data_boot = fb_like.sample(n=len(fb_like), replace=True)\n",
        "    fb_like_model_boot = smf.ols(formula='like ~ comment + share', data=fb_like_data_boot).fit()\n",
        "    bootstrapped_ests.append(fb_like_model_boot.params[['comment', 'share']])\n",
        "    \n",
        "b_comments, b_shares = zip(*bootstrapped_ests)\n",
        "\n",
        "print(\"The 95% bootstrapped CI of b_comments is [{:.2f}, {:.2f}].\".format(\n",
        "    np.percentile(b_comments, 2.5),\n",
        "    np.percentile(b_comments, 97.5)))\n",
        "\n",
        "print(\"The 95% bootstrapped CI of b_shares is [{:.2f}, {:.2f}].\".format(\n",
        "    np.percentile(b_shares, 2.5),\n",
        "    np.percentile(b_shares, 97.5)))"
      ],
      "execution_count": 114,
      "outputs": [
        {
          "output_type": "display_data",
          "data": {
            "application/vnd.jupyter.widget-view+json": {
              "model_id": "b0a25198c63f41fda31d9951c78ace79",
              "version_minor": 0,
              "version_major": 2
            },
            "text/plain": [
              "HBox(children=(FloatProgress(value=0.0, max=5000.0), HTML(value='')))"
            ]
          },
          "metadata": {
            "tags": []
          }
        },
        {
          "output_type": "stream",
          "text": [
            "\n",
            "The 95% bootstrapped CI of b_comments is [2.10, 5.46].\n",
            "The 95% bootstrapped CI of b_shares is [4.71, 7.00].\n"
          ],
          "name": "stdout"
        }
      ]
    },
    {
      "cell_type": "markdown",
      "metadata": {
        "id": "AdBPv90yq-UV"
      },
      "source": [
        "**No we do not get same CI as Q1.** \n",
        "*Folloing are the reasons on why they differ.*\n",
        "\n",
        "\n",
        "1.   CI calculated using Bootstrap is more robust compared to OLS as Bootstrap relay on fewer assumptions than OLS\n",
        "2.   We use data samples drawn from the original dataset not the actual data set.\n",
        "\n",
        "\n"
      ]
    },
    {
      "cell_type": "markdown",
      "metadata": {
        "id": "sB9vBrt95XP7"
      },
      "source": [
        "## Q3 - Use AIC/BIC for model selection"
      ]
    },
    {
      "cell_type": "markdown",
      "metadata": {
        "id": "DwocEOeQ5XP8"
      },
      "source": [
        "- Read the [example here](https://scikit-learn.org/stable/auto_examples/linear_model/plot_lasso_model_selection.html#sphx-glr-auto-examples-linear-model-plot-lasso-model-selection-py) and the [manual here](https://scikit-learn.org/stable/modules/generated/sklearn.linear_model.LassoLarsIC.html#sklearn.linear_model.LassoLarsIC). You may want to create a separate notebook to run the example.\n",
        "- Use `LassoLarsIC` to select the best model using the **`bic`** criterion. \n",
        "- There is no need to split the data to train-test sets for this exercise. \n",
        "- Which X variables are selected by the `LassoLarsIC` method? Answer using variable names. "
      ]
    },
    {
      "cell_type": "code",
      "metadata": {
        "id": "Os9IfCIE6yPw"
      },
      "source": [
        "X = fb_like.loc[:,fb_like.columns != 'like']\n",
        "Y = fb_like['like']"
      ],
      "execution_count": 115,
      "outputs": []
    },
    {
      "cell_type": "code",
      "metadata": {
        "id": "VUiRE25jLKjs",
        "outputId": "ae7759a0-fe11-4eff-9ccd-72d483e38510",
        "colab": {
          "base_uri": "https://localhost:8080/"
        }
      },
      "source": [
        "Y"
      ],
      "execution_count": 116,
      "outputs": [
        {
          "output_type": "execute_result",
          "data": {
            "text/plain": [
              "0        79.0\n",
              "1       130.0\n",
              "2        66.0\n",
              "3      1572.0\n",
              "4       325.0\n",
              "        ...  \n",
              "494     125.0\n",
              "495      53.0\n",
              "496      53.0\n",
              "497      93.0\n",
              "498      91.0\n",
              "Name: like, Length: 495, dtype: float64"
            ]
          },
          "metadata": {
            "tags": []
          },
          "execution_count": 116
        }
      ]
    },
    {
      "cell_type": "code",
      "metadata": {
        "id": "o-f8fLxB5XP8"
      },
      "source": [
        "#### YOUR CODE HERE ####\n",
        "from sklearn import linear_model\n",
        "from sklearn.linear_model import LassoLarsIC"
      ],
      "execution_count": 117,
      "outputs": []
    },
    {
      "cell_type": "code",
      "metadata": {
        "id": "8F8a6Bn256WD",
        "outputId": "f79ba4bf-5108-4698-d021-8c7ebaaa6112",
        "colab": {
          "base_uri": "https://localhost:8080/"
        }
      },
      "source": [
        "model_LassoLarsIC = LassoLarsIC(criterion='bic')\n",
        "model_LassoLarsIC.fit(X,Y)"
      ],
      "execution_count": 118,
      "outputs": [
        {
          "output_type": "execute_result",
          "data": {
            "text/plain": [
              "LassoLarsIC(copy_X=True, criterion='bic', eps=2.220446049250313e-16,\n",
              "            fit_intercept=True, max_iter=500, normalize=True, positive=False,\n",
              "            precompute='auto', verbose=False)"
            ]
          },
          "metadata": {
            "tags": []
          },
          "execution_count": 118
        }
      ]
    },
    {
      "cell_type": "code",
      "metadata": {
        "id": "j6G4lOFn67S_",
        "outputId": "05ff8666-195c-41b1-fd8a-325039e09eac",
        "colab": {
          "base_uri": "https://localhost:8080/"
        }
      },
      "source": [
        "model_LassoLarsIC.coef_"
      ],
      "execution_count": 119,
      "outputs": [
        {
          "output_type": "execute_result",
          "data": {
            "text/plain": [
              "array([0.        , 0.        , 0.        , 0.        , 0.        ,\n",
              "       0.        , 0.        , 0.00814194, 0.        , 2.10037166,\n",
              "       4.71135015, 0.        , 0.        , 0.        , 0.        ,\n",
              "       0.        , 0.        , 0.        , 0.        , 0.        ,\n",
              "       0.        , 0.        , 0.        , 0.        , 0.        ,\n",
              "       0.        , 0.        , 0.        , 0.        , 0.        ,\n",
              "       0.        , 0.        , 0.        , 0.        , 0.        ,\n",
              "       0.        , 0.        , 0.        , 0.        , 0.        ,\n",
              "       0.        , 0.        , 0.        , 0.        , 0.        ,\n",
              "       0.        , 0.        , 0.        , 0.        , 0.        ,\n",
              "       0.        , 0.        , 0.        , 0.        ])"
            ]
          },
          "metadata": {
            "tags": []
          },
          "execution_count": 119
        }
      ]
    },
    {
      "cell_type": "code",
      "metadata": {
        "id": "HaI7Uwbv7FkT",
        "outputId": "08e504b2-10fd-4bad-83f7-0dd14e5adf1f",
        "colab": {
          "base_uri": "https://localhost:8080/"
        }
      },
      "source": [
        "# X variables which are selected by the LassoLarsIC method\n",
        "X.columns[np.abs(model_LassoLarsIC.coef_) > 0]"
      ],
      "execution_count": 120,
      "outputs": [
        {
          "output_type": "execute_result",
          "data": {
            "text/plain": [
              "Index(['Lifetime Post reach by people who like your Page', 'comment', 'share'], dtype='object')"
            ]
          },
          "metadata": {
            "tags": []
          },
          "execution_count": 120
        }
      ]
    },
    {
      "cell_type": "markdown",
      "metadata": {
        "id": "D6-WhCdU5XP_"
      },
      "source": [
        "## Q4 - Compare out-of-sample perormance"
      ]
    },
    {
      "cell_type": "markdown",
      "metadata": {
        "id": "fvTTZvH65XQA"
      },
      "source": [
        "- Split the data to 90% train and 10% test set. \n",
        "- Train three models using the train set:\n",
        "   * `LassoLarsIC` model (a model that uses BIC to select variables)\n",
        "   * a full model (a model that includes all X variables)\n",
        "   * a `LassoCV` model (a model that uses CV on train set to select variables)\n",
        "- Remember to train a scaler using train set only, and transform both X_train and X_test. \n",
        "- Compare their test-set performance using MSE. Which model has the best performance? "
      ]
    },
    {
      "cell_type": "code",
      "metadata": {
        "id": "DnMCrlx-NXoc"
      },
      "source": [
        "mse = dict()"
      ],
      "execution_count": 121,
      "outputs": []
    },
    {
      "cell_type": "code",
      "metadata": {
        "id": "1zhhJMEl5XQA"
      },
      "source": [
        "#### YOUR CODE HERE ####\n",
        "from sklearn.model_selection import train_test_split"
      ],
      "execution_count": 122,
      "outputs": []
    },
    {
      "cell_type": "code",
      "metadata": {
        "id": "k1WNPCqBAmfl"
      },
      "source": [
        "# Spliting data\n",
        "X_train, X_test, y_train, y_test = train_test_split(X, Y, test_size=0.1, random_state = 1)"
      ],
      "execution_count": 123,
      "outputs": []
    },
    {
      "cell_type": "code",
      "metadata": {
        "id": "N0uu1EIoA6mU",
        "outputId": "fdc9a47a-808b-4674-a5e3-6383b68c3675",
        "colab": {
          "base_uri": "https://localhost:8080/"
        }
      },
      "source": [
        "print(X_train.shape,X_test.shape)"
      ],
      "execution_count": 124,
      "outputs": [
        {
          "output_type": "stream",
          "text": [
            "(445, 54) (50, 54)\n"
          ],
          "name": "stdout"
        }
      ]
    },
    {
      "cell_type": "code",
      "metadata": {
        "id": "Y_aPramfBDuq",
        "outputId": "925ba521-9a9a-495c-f0a8-39cf81a81aa8",
        "colab": {
          "base_uri": "https://localhost:8080/"
        }
      },
      "source": [
        "print(y_train.shape,y_test.shape)"
      ],
      "execution_count": 125,
      "outputs": [
        {
          "output_type": "stream",
          "text": [
            "(445,) (50,)\n"
          ],
          "name": "stdout"
        }
      ]
    },
    {
      "cell_type": "code",
      "metadata": {
        "id": "NPum3iMWDq1B"
      },
      "source": [
        "from sklearn import preprocessing"
      ],
      "execution_count": 126,
      "outputs": []
    },
    {
      "cell_type": "code",
      "metadata": {
        "id": "pV_qoc5lDii1"
      },
      "source": [
        "scaler = preprocessing.StandardScaler().fit(X_train)"
      ],
      "execution_count": 127,
      "outputs": []
    },
    {
      "cell_type": "code",
      "metadata": {
        "id": "oTYEg8kBBNQd",
        "outputId": "e8776ad2-e34e-4d91-e997-3203c1ec00d6",
        "colab": {
          "base_uri": "https://localhost:8080/"
        }
      },
      "source": [
        "# Linear modes using LassoLarasIC\n",
        "model_1 = LassoLarsIC(criterion='bic')\n",
        "model_1.fit(scaler.transform(X_train),y_train)"
      ],
      "execution_count": 128,
      "outputs": [
        {
          "output_type": "execute_result",
          "data": {
            "text/plain": [
              "LassoLarsIC(copy_X=True, criterion='bic', eps=2.220446049250313e-16,\n",
              "            fit_intercept=True, max_iter=500, normalize=True, positive=False,\n",
              "            precompute='auto', verbose=False)"
            ]
          },
          "metadata": {
            "tags": []
          },
          "execution_count": 128
        }
      ]
    },
    {
      "cell_type": "code",
      "metadata": {
        "id": "yuh7niA1EQF4"
      },
      "source": [
        "model1_yhat = model_1.predict(scaler.transform((X_test)))"
      ],
      "execution_count": 129,
      "outputs": []
    },
    {
      "cell_type": "code",
      "metadata": {
        "id": "UOIe12LuEte7"
      },
      "source": [
        "from sklearn import metrics"
      ],
      "execution_count": 130,
      "outputs": []
    },
    {
      "cell_type": "code",
      "metadata": {
        "id": "7Nd6uFXhEvkV"
      },
      "source": [
        "mse['LassoLarsIC'] = metrics.mean_squared_error(y_true=y_test,y_pred=model1_yhat)"
      ],
      "execution_count": 131,
      "outputs": []
    },
    {
      "cell_type": "code",
      "metadata": {
        "id": "DynMJRXRE-mr"
      },
      "source": [
        "# Linear model using all Xs\n",
        "from sklearn.linear_model import LinearRegression"
      ],
      "execution_count": 132,
      "outputs": []
    },
    {
      "cell_type": "code",
      "metadata": {
        "id": "a6UBTtF_F4NY",
        "outputId": "bc14feb0-6b3a-4fef-b6ad-a835c0832c97",
        "colab": {
          "base_uri": "https://localhost:8080/"
        }
      },
      "source": [
        "model_2 = LinearRegression()\n",
        "model_2.fit(scaler.transform(X_train),y_train)"
      ],
      "execution_count": 133,
      "outputs": [
        {
          "output_type": "execute_result",
          "data": {
            "text/plain": [
              "LinearRegression(copy_X=True, fit_intercept=True, n_jobs=None, normalize=False)"
            ]
          },
          "metadata": {
            "tags": []
          },
          "execution_count": 133
        }
      ]
    },
    {
      "cell_type": "code",
      "metadata": {
        "id": "7syC7hUuF-m-"
      },
      "source": [
        "model2_yhat = model_2.predict(scaler.transform((X_test)))"
      ],
      "execution_count": 134,
      "outputs": []
    },
    {
      "cell_type": "code",
      "metadata": {
        "id": "gd_4HZ3bGPgF"
      },
      "source": [
        "mse['Full Model'] = metrics.mean_squared_error(y_true=y_test,y_pred=model2_yhat)"
      ],
      "execution_count": 135,
      "outputs": []
    },
    {
      "cell_type": "code",
      "metadata": {
        "id": "8s6BFWRdMqFG"
      },
      "source": [
        "from sklearn.linear_model import Lasso, LassoCV, lars_path"
      ],
      "execution_count": 136,
      "outputs": []
    },
    {
      "cell_type": "code",
      "metadata": {
        "id": "3oATRTMvGTf2",
        "outputId": "a3d4b621-4108-4570-ea9a-48c224ba4585",
        "colab": {
          "base_uri": "https://localhost:8080/"
        }
      },
      "source": [
        "# Linear model using LassoCV\n",
        "model_3 = Lasso(alpha = 0.1, normalize=True)\n",
        "model_3.fit(scaler.transform(X_train),y_train)"
      ],
      "execution_count": 137,
      "outputs": [
        {
          "output_type": "execute_result",
          "data": {
            "text/plain": [
              "Lasso(alpha=0.1, copy_X=True, fit_intercept=True, max_iter=1000, normalize=True,\n",
              "      positive=False, precompute=False, random_state=None, selection='cyclic',\n",
              "      tol=0.0001, warm_start=False)"
            ]
          },
          "metadata": {
            "tags": []
          },
          "execution_count": 137
        }
      ]
    },
    {
      "cell_type": "code",
      "metadata": {
        "id": "fvglz0cPMloV"
      },
      "source": [
        "model3_yhat = model_3.predict(scaler.transform((X_test)))"
      ],
      "execution_count": 138,
      "outputs": []
    },
    {
      "cell_type": "code",
      "metadata": {
        "id": "c3hWq3bbM6uq"
      },
      "source": [
        "mse['LassoCV'] = metrics.mean_squared_error(y_true=y_test,y_pred=model3_yhat)"
      ],
      "execution_count": 139,
      "outputs": []
    },
    {
      "cell_type": "code",
      "metadata": {
        "id": "fF6MMXVaNwcF"
      },
      "source": [
        "# Comparing all MSEs\n",
        "tmp = min(mse.values())\n",
        "res = [key for key in mse if mse[key] == tmp]"
      ],
      "execution_count": 140,
      "outputs": []
    },
    {
      "cell_type": "code",
      "metadata": {
        "id": "QkePUMXkPdzt",
        "outputId": "916fb9ef-0775-4987-ca29-2f110eaf9534",
        "colab": {
          "base_uri": "https://localhost:8080/"
        }
      },
      "source": [
        "print('Model with minimum MSE is',res,'And its MSE is',tmp)"
      ],
      "execution_count": 141,
      "outputs": [
        {
          "output_type": "stream",
          "text": [
            "Model with minimum MSE is ['LassoCV'] And its MSE is 2700.020879952409\n"
          ],
          "name": "stdout"
        }
      ]
    }
  ]
}